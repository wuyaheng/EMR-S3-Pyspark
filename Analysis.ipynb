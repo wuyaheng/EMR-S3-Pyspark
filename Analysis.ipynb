{
 "cells": [
  {
   "cell_type": "markdown",
   "metadata": {},
   "source": [
    "CIS9760_Project2_Yaheng Wu(Phoebe)"
   ]
  },
  {
   "cell_type": "markdown",
   "metadata": {},
   "source": [
    "# Analysis of Yelp Business Intelligence Data"
   ]
  },
  {
   "cell_type": "markdown",
   "metadata": {},
   "source": [
    "Big Idea:<br/>\n",
    "In this project, I analyzed a subset of the Yelp's business, reviews and user data.<br/> "
   ]
  },
  {
   "cell_type": "markdown",
   "metadata": {},
   "source": [
    "Data Source: <br/>\n",
    "The three datasets originally come from [Kaggle](https://www.kaggle.com/yelp-dataset/yelp-dataset) and they have been uploaded into an S3 bucket for the use of this project.<br/>\n",
    "s3://yelpreviewdataset/yelp_academic_dataset_business.json\\\n",
    "s3://yelpreviewdataset/yelp_academic_dataset_review.json\\\n",
    "s3://yelpreviewdataset/yelp_academic_dataset_user.json"
   ]
  },
  {
   "cell_type": "markdown",
   "metadata": {},
   "source": [
    "## Part I: Installation and Initial Setup"
   ]
  },
  {
   "cell_type": "markdown",
   "metadata": {},
   "source": [
    "### 1. Install Packages"
   ]
  },
  {
   "cell_type": "code",
   "execution_count": 1,
   "metadata": {},
   "outputs": [
    {
     "data": {
      "application/vnd.jupyter.widget-view+json": {
       "model_id": "1d13f3a3a65c4ce6be9e4af9bccbf3a3",
       "version_major": 2,
       "version_minor": 0
      },
      "text/plain": [
       "VBox()"
      ]
     },
     "metadata": {},
     "output_type": "display_data"
    },
    {
     "name": "stdout",
     "output_type": "stream",
     "text": [
      "Starting Spark application\n"
     ]
    },
    {
     "data": {
      "text/html": [
       "<table>\n",
       "<tr><th>ID</th><th>YARN Application ID</th><th>Kind</th><th>State</th><th>Spark UI</th><th>Driver log</th><th>Current session?</th></tr><tr><td>1</td><td>application_1606276836552_0002</td><td>pyspark</td><td>idle</td><td><a target=\"_blank\" href=\"http://ip-172-31-28-36.us-east-2.compute.internal:20888/proxy/application_1606276836552_0002/\">Link</a></td><td><a target=\"_blank\" href=\"http://ip-172-31-18-222.us-east-2.compute.internal:8042/node/containerlogs/container_1606276836552_0002_01_000001/livy\">Link</a></td><td>✔</td></tr></table>"
      ],
      "text/plain": [
       "<IPython.core.display.HTML object>"
      ]
     },
     "metadata": {},
     "output_type": "display_data"
    },
    {
     "data": {
      "application/vnd.jupyter.widget-view+json": {
       "model_id": "",
       "version_major": 2,
       "version_minor": 0
      },
      "text/plain": [
       "FloatProgress(value=0.0, bar_style='info', description='Progress:', layout=Layout(height='25px', width='50%'),…"
      ]
     },
     "metadata": {},
     "output_type": "display_data"
    },
    {
     "name": "stdout",
     "output_type": "stream",
     "text": [
      "SparkSession available as 'spark'.\n"
     ]
    },
    {
     "data": {
      "application/vnd.jupyter.widget-view+json": {
       "model_id": "",
       "version_major": 2,
       "version_minor": 0
      },
      "text/plain": [
       "FloatProgress(value=0.0, bar_style='info', description='Progress:', layout=Layout(height='25px', width='50%'),…"
      ]
     },
     "metadata": {},
     "output_type": "display_data"
    },
    {
     "name": "stdout",
     "output_type": "stream",
     "text": [
      "Collecting pandas==1.0.3\n",
      "  Using cached https://files.pythonhosted.org/packages/4a/6a/94b219b8ea0f2d580169e85ed1edc0163743f55aaeca8a44c2e8fc1e344e/pandas-1.0.3-cp37-cp37m-manylinux1_x86_64.whl\n",
      "Requirement already satisfied: pytz>=2017.2 in /usr/local/lib/python3.7/site-packages (from pandas==1.0.3)\n",
      "Requirement already satisfied: numpy>=1.13.3 in /usr/local/lib64/python3.7/site-packages (from pandas==1.0.3)\n",
      "Collecting python-dateutil>=2.6.1 (from pandas==1.0.3)\n",
      "  Using cached https://files.pythonhosted.org/packages/d4/70/d60450c3dd48ef87586924207ae8907090de0b306af2bce5d134d78615cb/python_dateutil-2.8.1-py2.py3-none-any.whl\n",
      "Requirement already satisfied: six>=1.5 in /usr/local/lib/python3.7/site-packages (from python-dateutil>=2.6.1->pandas==1.0.3)\n",
      "Installing collected packages: python-dateutil, pandas\n",
      "Successfully installed pandas-1.0.3 python-dateutil-2.8.1\n",
      "\n",
      "Collecting matplotlib==3.2.1\n",
      "  Using cached https://files.pythonhosted.org/packages/b2/c2/71fcf957710f3ba1f09088b35776a799ba7dd95f7c2b195ec800933b276b/matplotlib-3.2.1-cp37-cp37m-manylinux1_x86_64.whl\n",
      "Requirement already satisfied: python-dateutil>=2.1 in /mnt/tmp/1606280528823-0/lib/python3.7/site-packages (from matplotlib==3.2.1)\n",
      "Collecting pyparsing!=2.0.4,!=2.1.2,!=2.1.6,>=2.0.1 (from matplotlib==3.2.1)\n",
      "  Using cached https://files.pythonhosted.org/packages/8a/bb/488841f56197b13700afd5658fc279a2025a39e22449b7cf29864669b15d/pyparsing-2.4.7-py2.py3-none-any.whl\n",
      "Collecting cycler>=0.10 (from matplotlib==3.2.1)\n",
      "  Using cached https://files.pythonhosted.org/packages/f7/d2/e07d3ebb2bd7af696440ce7e754c59dd546ffe1bbe732c8ab68b9c834e61/cycler-0.10.0-py2.py3-none-any.whl\n",
      "Requirement already satisfied: numpy>=1.11 in /usr/local/lib64/python3.7/site-packages (from matplotlib==3.2.1)\n",
      "Collecting kiwisolver>=1.0.1 (from matplotlib==3.2.1)\n",
      "  Using cached https://files.pythonhosted.org/packages/d2/46/231de802ade4225b76b96cffe419cf3ce52bbe92e3b092cf12db7d11c207/kiwisolver-1.3.1-cp37-cp37m-manylinux1_x86_64.whl\n",
      "Requirement already satisfied: six>=1.5 in /usr/local/lib/python3.7/site-packages (from python-dateutil>=2.1->matplotlib==3.2.1)\n",
      "Installing collected packages: pyparsing, cycler, kiwisolver, matplotlib\n",
      "Successfully installed cycler-0.10.0 kiwisolver-1.3.1 matplotlib-3.2.1 pyparsing-2.4.7\n",
      "\n",
      "Collecting seaborn==0.10.0\n",
      "  Using cached https://files.pythonhosted.org/packages/70/bd/5e6bf595fe6ee0f257ae49336dd180768c1ed3d7c7155b2fdf894c1c808a/seaborn-0.10.0-py3-none-any.whl\n",
      "Requirement already satisfied: pandas>=0.22.0 in /mnt/tmp/1606280528823-0/lib/python3.7/site-packages (from seaborn==0.10.0)\n",
      "Requirement already satisfied: numpy>=1.13.3 in /usr/local/lib64/python3.7/site-packages (from seaborn==0.10.0)\n",
      "Collecting scipy>=1.0.1 (from seaborn==0.10.0)\n",
      "  Using cached https://files.pythonhosted.org/packages/dc/7e/8f6a79b102ca1ea928bae8998b05bf5dc24a90571db13cd119f275ba6252/scipy-1.5.4-cp37-cp37m-manylinux1_x86_64.whl\n",
      "Requirement already satisfied: matplotlib>=2.1.2 in /mnt/tmp/1606280528823-0/lib/python3.7/site-packages (from seaborn==0.10.0)\n",
      "Requirement already satisfied: pytz>=2017.2 in /usr/local/lib/python3.7/site-packages (from pandas>=0.22.0->seaborn==0.10.0)\n",
      "Requirement already satisfied: python-dateutil>=2.6.1 in /mnt/tmp/1606280528823-0/lib/python3.7/site-packages (from pandas>=0.22.0->seaborn==0.10.0)\n",
      "Requirement already satisfied: pyparsing!=2.0.4,!=2.1.2,!=2.1.6,>=2.0.1 in /mnt/tmp/1606280528823-0/lib/python3.7/site-packages (from matplotlib>=2.1.2->seaborn==0.10.0)\n",
      "Requirement already satisfied: cycler>=0.10 in /mnt/tmp/1606280528823-0/lib/python3.7/site-packages (from matplotlib>=2.1.2->seaborn==0.10.0)\n",
      "Requirement already satisfied: kiwisolver>=1.0.1 in /mnt/tmp/1606280528823-0/lib/python3.7/site-packages (from matplotlib>=2.1.2->seaborn==0.10.0)\n",
      "Requirement already satisfied: six>=1.5 in /usr/local/lib/python3.7/site-packages (from python-dateutil>=2.6.1->pandas>=0.22.0->seaborn==0.10.0)\n",
      "Installing collected packages: scipy, seaborn\n",
      "Successfully installed scipy-1.5.4 seaborn-0.10.0\n",
      "\n",
      "Package                    Version  \n",
      "-------------------------- ---------\n",
      "beautifulsoup4             4.9.1    \n",
      "boto                       2.49.0   \n",
      "click                      7.1.2    \n",
      "cycler                     0.10.0   \n",
      "jmespath                   0.10.0   \n",
      "joblib                     0.16.0   \n",
      "kiwisolver                 1.3.1    \n",
      "lxml                       4.5.2    \n",
      "matplotlib                 3.2.1    \n",
      "mysqlclient                1.4.2    \n",
      "nltk                       3.5      \n",
      "nose                       1.3.4    \n",
      "numpy                      1.16.5   \n",
      "pandas                     1.0.3    \n",
      "pip                        9.0.1    \n",
      "py-dateutil                2.2      \n",
      "pyparsing                  2.4.7    \n",
      "python-dateutil            2.8.1    \n",
      "python37-sagemaker-pyspark 1.4.0    \n",
      "pytz                       2020.1   \n",
      "PyYAML                     5.3.1    \n",
      "regex                      2020.7.14\n",
      "scipy                      1.5.4    \n",
      "seaborn                    0.10.0   \n",
      "setuptools                 28.8.0   \n",
      "six                        1.13.0   \n",
      "soupsieve                  1.9.5    \n",
      "tqdm                       4.48.2   \n",
      "wheel                      0.29.0   \n",
      "windmill                   1.6"
     ]
    }
   ],
   "source": [
    "from pyspark.sql import SparkSession\n",
    "my_spark = SparkSession.builder.getOrCreate()\n",
    "sc.install_pypi_package(\"pandas==1.0.3\")\n",
    "sc.install_pypi_package(\"matplotlib==3.2.1\")\n",
    "sc.install_pypi_package(\"seaborn==0.10.0\")\n",
    "sc.list_packages()"
   ]
  },
  {
   "cell_type": "markdown",
   "metadata": {},
   "source": [
    "### 2. Importing"
   ]
  },
  {
   "cell_type": "code",
   "execution_count": 2,
   "metadata": {},
   "outputs": [
    {
     "data": {
      "application/vnd.jupyter.widget-view+json": {
       "model_id": "1b40087e553a49a1b826b57971de1b55",
       "version_major": 2,
       "version_minor": 0
      },
      "text/plain": [
       "VBox()"
      ]
     },
     "metadata": {},
     "output_type": "display_data"
    },
    {
     "data": {
      "application/vnd.jupyter.widget-view+json": {
       "model_id": "",
       "version_major": 2,
       "version_minor": 0
      },
      "text/plain": [
       "FloatProgress(value=0.0, bar_style='info', description='Progress:', layout=Layout(height='25px', width='50%'),…"
      ]
     },
     "metadata": {},
     "output_type": "display_data"
    }
   ],
   "source": [
    "import numpy as np\n",
    "import pandas as pd\n",
    "import matplotlib.pyplot as plt\n",
    "import seaborn as sns\n",
    "import pyspark.sql.functions as F\n",
    "from pyspark.sql.functions import explode, split, desc, col, avg, udf, when\n",
    "from pyspark.sql.types import IntegerType, StringType, DoubleType"
   ]
  },
  {
   "cell_type": "markdown",
   "metadata": {},
   "source": [
    "### 3. Loading Data"
   ]
  },
  {
   "cell_type": "code",
   "execution_count": 3,
   "metadata": {},
   "outputs": [
    {
     "data": {
      "application/vnd.jupyter.widget-view+json": {
       "model_id": "6d5d53c43d174cb5847f7f3f989794f5",
       "version_major": 2,
       "version_minor": 0
      },
      "text/plain": [
       "VBox()"
      ]
     },
     "metadata": {},
     "output_type": "display_data"
    },
    {
     "data": {
      "application/vnd.jupyter.widget-view+json": {
       "model_id": "",
       "version_major": 2,
       "version_minor": 0
      },
      "text/plain": [
       "FloatProgress(value=0.0, bar_style='info', description='Progress:', layout=Layout(height='25px', width='50%'),…"
      ]
     },
     "metadata": {},
     "output_type": "display_data"
    }
   ],
   "source": [
    "business_df = spark.read.json('s3://yelpreviewdataset/yelp_academic_dataset_business.json')"
   ]
  },
  {
   "cell_type": "markdown",
   "metadata": {},
   "source": [
    "### 4. Overview of Data"
   ]
  },
  {
   "cell_type": "code",
   "execution_count": 4,
   "metadata": {},
   "outputs": [
    {
     "data": {
      "application/vnd.jupyter.widget-view+json": {
       "model_id": "2057fa19428a4ba38156a17e2ce6ad7b",
       "version_major": 2,
       "version_minor": 0
      },
      "text/plain": [
       "VBox()"
      ]
     },
     "metadata": {},
     "output_type": "display_data"
    },
    {
     "data": {
      "application/vnd.jupyter.widget-view+json": {
       "model_id": "",
       "version_major": 2,
       "version_minor": 0
      },
      "text/plain": [
       "FloatProgress(value=0.0, bar_style='info', description='Progress:', layout=Layout(height='25px', width='50%'),…"
      ]
     },
     "metadata": {},
     "output_type": "display_data"
    },
    {
     "name": "stdout",
     "output_type": "stream",
     "text": [
      "Columns: 14 | Rows: 209,393"
     ]
    }
   ],
   "source": [
    "print(f'Columns: {len(business_df.columns)} | Rows: {business_df.count():,}')"
   ]
  },
  {
   "cell_type": "code",
   "execution_count": 5,
   "metadata": {},
   "outputs": [
    {
     "data": {
      "application/vnd.jupyter.widget-view+json": {
       "model_id": "19094046c2704085aaa4f21f0b9bca36",
       "version_major": 2,
       "version_minor": 0
      },
      "text/plain": [
       "VBox()"
      ]
     },
     "metadata": {},
     "output_type": "display_data"
    },
    {
     "data": {
      "application/vnd.jupyter.widget-view+json": {
       "model_id": "",
       "version_major": 2,
       "version_minor": 0
      },
      "text/plain": [
       "FloatProgress(value=0.0, bar_style='info', description='Progress:', layout=Layout(height='25px', width='50%'),…"
      ]
     },
     "metadata": {},
     "output_type": "display_data"
    },
    {
     "name": "stdout",
     "output_type": "stream",
     "text": [
      "root\n",
      " |-- address: string (nullable = true)\n",
      " |-- attributes: struct (nullable = true)\n",
      " |    |-- AcceptsInsurance: string (nullable = true)\n",
      " |    |-- AgesAllowed: string (nullable = true)\n",
      " |    |-- Alcohol: string (nullable = true)\n",
      " |    |-- Ambience: string (nullable = true)\n",
      " |    |-- BYOB: string (nullable = true)\n",
      " |    |-- BYOBCorkage: string (nullable = true)\n",
      " |    |-- BestNights: string (nullable = true)\n",
      " |    |-- BikeParking: string (nullable = true)\n",
      " |    |-- BusinessAcceptsBitcoin: string (nullable = true)\n",
      " |    |-- BusinessAcceptsCreditCards: string (nullable = true)\n",
      " |    |-- BusinessParking: string (nullable = true)\n",
      " |    |-- ByAppointmentOnly: string (nullable = true)\n",
      " |    |-- Caters: string (nullable = true)\n",
      " |    |-- CoatCheck: string (nullable = true)\n",
      " |    |-- Corkage: string (nullable = true)\n",
      " |    |-- DietaryRestrictions: string (nullable = true)\n",
      " |    |-- DogsAllowed: string (nullable = true)\n",
      " |    |-- DriveThru: string (nullable = true)\n",
      " |    |-- GoodForDancing: string (nullable = true)\n",
      " |    |-- GoodForKids: string (nullable = true)\n",
      " |    |-- GoodForMeal: string (nullable = true)\n",
      " |    |-- HairSpecializesIn: string (nullable = true)\n",
      " |    |-- HappyHour: string (nullable = true)\n",
      " |    |-- HasTV: string (nullable = true)\n",
      " |    |-- Music: string (nullable = true)\n",
      " |    |-- NoiseLevel: string (nullable = true)\n",
      " |    |-- Open24Hours: string (nullable = true)\n",
      " |    |-- OutdoorSeating: string (nullable = true)\n",
      " |    |-- RestaurantsAttire: string (nullable = true)\n",
      " |    |-- RestaurantsCounterService: string (nullable = true)\n",
      " |    |-- RestaurantsDelivery: string (nullable = true)\n",
      " |    |-- RestaurantsGoodForGroups: string (nullable = true)\n",
      " |    |-- RestaurantsPriceRange2: string (nullable = true)\n",
      " |    |-- RestaurantsReservations: string (nullable = true)\n",
      " |    |-- RestaurantsTableService: string (nullable = true)\n",
      " |    |-- RestaurantsTakeOut: string (nullable = true)\n",
      " |    |-- Smoking: string (nullable = true)\n",
      " |    |-- WheelchairAccessible: string (nullable = true)\n",
      " |    |-- WiFi: string (nullable = true)\n",
      " |-- business_id: string (nullable = true)\n",
      " |-- categories: string (nullable = true)\n",
      " |-- city: string (nullable = true)\n",
      " |-- hours: struct (nullable = true)\n",
      " |    |-- Friday: string (nullable = true)\n",
      " |    |-- Monday: string (nullable = true)\n",
      " |    |-- Saturday: string (nullable = true)\n",
      " |    |-- Sunday: string (nullable = true)\n",
      " |    |-- Thursday: string (nullable = true)\n",
      " |    |-- Tuesday: string (nullable = true)\n",
      " |    |-- Wednesday: string (nullable = true)\n",
      " |-- is_open: long (nullable = true)\n",
      " |-- latitude: double (nullable = true)\n",
      " |-- longitude: double (nullable = true)\n",
      " |-- name: string (nullable = true)\n",
      " |-- postal_code: string (nullable = true)\n",
      " |-- review_count: long (nullable = true)\n",
      " |-- stars: double (nullable = true)\n",
      " |-- state: string (nullable = true)"
     ]
    }
   ],
   "source": [
    "business_df.printSchema()"
   ]
  },
  {
   "cell_type": "markdown",
   "metadata": {},
   "source": [
    "Display the first 5 rows with the following columns:\n",
    "\n",
    "- business_id\n",
    "- name\n",
    "- city\n",
    "- state\n",
    "- categories"
   ]
  },
  {
   "cell_type": "code",
   "execution_count": 6,
   "metadata": {},
   "outputs": [
    {
     "data": {
      "application/vnd.jupyter.widget-view+json": {
       "model_id": "a5736b05059546c386b94b730c1b538e",
       "version_major": 2,
       "version_minor": 0
      },
      "text/plain": [
       "VBox()"
      ]
     },
     "metadata": {},
     "output_type": "display_data"
    },
    {
     "data": {
      "application/vnd.jupyter.widget-view+json": {
       "model_id": "",
       "version_major": 2,
       "version_minor": 0
      },
      "text/plain": [
       "FloatProgress(value=0.0, bar_style='info', description='Progress:', layout=Layout(height='25px', width='50%'),…"
      ]
     },
     "metadata": {},
     "output_type": "display_data"
    },
    {
     "name": "stdout",
     "output_type": "stream",
     "text": [
      "+--------------------+--------------------+---------------+-----+-----+--------------------+\n",
      "|         business_id|                name|           city|state|stars|          categories|\n",
      "+--------------------+--------------------+---------------+-----+-----+--------------------+\n",
      "|f9NumwFMBDn751xgF...|The Range At Lake...|      Cornelius|   NC|  3.5|Active Life, Gun/...|\n",
      "|Yzvjg0SayhoZgCljU...|   Carlos Santo, NMD|     Scottsdale|   AZ|  5.0|Health & Medical,...|\n",
      "|XNoUzKckATkOD1hP6...|             Felinus|       Montreal|   QC|  5.0|Pets, Pet Service...|\n",
      "|6OAZjbxqM5ol29BuH...|Nevada House of Hose|North Las Vegas|   NV|  2.5|Hardware Stores, ...|\n",
      "|51M2Kk903DFYI6gnB...|USE MY GUY SERVIC...|           Mesa|   AZ|  4.5|Home Services, Pl...|\n",
      "+--------------------+--------------------+---------------+-----+-----+--------------------+\n",
      "only showing top 5 rows"
     ]
    }
   ],
   "source": [
    "busi_df = business_df.select('business_id', 'name', 'city', 'state', 'stars', 'categories')\n",
    "busi_df.show(5)"
   ]
  },
  {
   "cell_type": "markdown",
   "metadata": {},
   "source": [
    "## Part II: Analyzing Categories"
   ]
  },
  {
   "cell_type": "markdown",
   "metadata": {},
   "source": [
    "Let's now answer: **How many unique categories are represented in this dataset?**\n",
    "\n",
    "Essentially, we have the categories per business as a list - this is useful to quickly see what each business might be represented as but it is difficult to easily answer the following questions such as:\n",
    "\n",
    "- How many businesses are categorized as Active Life？\n",
    "- What are the top 20 most popular categories available?"
   ]
  },
  {
   "cell_type": "markdown",
   "metadata": {},
   "source": [
    "### 1. Association Table \n",
    "We need to \"break out\" these categories from the business ids? One common approach to take is to build an association table mapping a single business id multiple times to each distinct category.\n",
    "\n",
    "For instance, given the following:\n",
    "\n",
    "| business_id |\tcategories |\n",
    "|:------------|:-----------|\n",
    "| abcd123     | a,b,c      |\n",
    "\n",
    "\n",
    "We would like to derive something like:\n",
    "\n",
    "| business_id |\tcategory |\n",
    "|:------------|:---------|\n",
    "| abcd123     | a        |\n",
    "| abcd123\t  | b        |\n",
    "| abcd123\t  | c        |\n",
    "\n",
    "\n",
    "What this does is allow us to then perform a myriad of rollups and other analysis on this association table which can aid us in answering the questions asked above."
   ]
  },
  {
   "cell_type": "markdown",
   "metadata": {},
   "source": [
    "Display the first 5 rows of the association table below"
   ]
  },
  {
   "cell_type": "code",
   "execution_count": 7,
   "metadata": {},
   "outputs": [
    {
     "data": {
      "application/vnd.jupyter.widget-view+json": {
       "model_id": "4cdaf32ab4844604b51fc9464b029bf9",
       "version_major": 2,
       "version_minor": 0
      },
      "text/plain": [
       "VBox()"
      ]
     },
     "metadata": {},
     "output_type": "display_data"
    },
    {
     "data": {
      "application/vnd.jupyter.widget-view+json": {
       "model_id": "",
       "version_major": 2,
       "version_minor": 0
      },
      "text/plain": [
       "FloatProgress(value=0.0, bar_style='info', description='Progress:', layout=Layout(height='25px', width='50%'),…"
      ]
     },
     "metadata": {},
     "output_type": "display_data"
    },
    {
     "name": "stdout",
     "output_type": "stream",
     "text": [
      "+--------------------+----------------+\n",
      "|         business_id|        category|\n",
      "+--------------------+----------------+\n",
      "|f9NumwFMBDn751xgF...|     Active Life|\n",
      "|f9NumwFMBDn751xgF...|Gun/Rifle Ranges|\n",
      "|f9NumwFMBDn751xgF...|     Guns & Ammo|\n",
      "|f9NumwFMBDn751xgF...|        Shopping|\n",
      "|Yzvjg0SayhoZgCljU...|Health & Medical|\n",
      "+--------------------+----------------+\n",
      "only showing top 5 rows"
     ]
    }
   ],
   "source": [
    "associ_table_one = business_df.select('business_id', explode(split(business_df.categories, ', ')).alias('category'))\n",
    "associ_table_one.show(5)"
   ]
  },
  {
   "cell_type": "markdown",
   "metadata": {},
   "source": [
    "### 2. Total Unique Categories\n",
    "\n",
    "Finally, we are ready to answer the question: **what is the total number of unique categories available?**"
   ]
  },
  {
   "cell_type": "code",
   "execution_count": 8,
   "metadata": {},
   "outputs": [
    {
     "data": {
      "application/vnd.jupyter.widget-view+json": {
       "model_id": "d906ba65924d4148ba24d623cc627018",
       "version_major": 2,
       "version_minor": 0
      },
      "text/plain": [
       "VBox()"
      ]
     },
     "metadata": {},
     "output_type": "display_data"
    },
    {
     "data": {
      "application/vnd.jupyter.widget-view+json": {
       "model_id": "",
       "version_major": 2,
       "version_minor": 0
      },
      "text/plain": [
       "FloatProgress(value=0.0, bar_style='info', description='Progress:', layout=Layout(height='25px', width='50%'),…"
      ]
     },
     "metadata": {},
     "output_type": "display_data"
    },
    {
     "name": "stdout",
     "output_type": "stream",
     "text": [
      "1336"
     ]
    }
   ],
   "source": [
    "associ_table_one.select('category').distinct().count()"
   ]
  },
  {
   "cell_type": "markdown",
   "metadata": {},
   "source": [
    "### 3. Top Categories By Business\n",
    "Now let's find the top categories in this dataset by rolling up categories.\n",
    "#### Counts of Businesses / Category"
   ]
  },
  {
   "cell_type": "code",
   "execution_count": 9,
   "metadata": {},
   "outputs": [
    {
     "data": {
      "application/vnd.jupyter.widget-view+json": {
       "model_id": "2a7ab9811a5a43ba8c3547fdf569f927",
       "version_major": 2,
       "version_minor": 0
      },
      "text/plain": [
       "VBox()"
      ]
     },
     "metadata": {},
     "output_type": "display_data"
    },
    {
     "data": {
      "application/vnd.jupyter.widget-view+json": {
       "model_id": "",
       "version_major": 2,
       "version_minor": 0
      },
      "text/plain": [
       "FloatProgress(value=0.0, bar_style='info', description='Progress:', layout=Layout(height='25px', width='50%'),…"
      ]
     },
     "metadata": {},
     "output_type": "display_data"
    },
    {
     "name": "stdout",
     "output_type": "stream",
     "text": [
      "+--------------------+-----+\n",
      "|            category|count|\n",
      "+--------------------+-----+\n",
      "|      Dermatologists|  341|\n",
      "|      Paddleboarding|   36|\n",
      "|        Aerial Tours|   28|\n",
      "|         Hobby Shops|  828|\n",
      "|          Bubble Tea|  720|\n",
      "|             Embassy|   13|\n",
      "|            Handyman|  682|\n",
      "|             Tanning|  938|\n",
      "|      Aerial Fitness|   29|\n",
      "|             Tempura|    1|\n",
      "|             Falafel|  159|\n",
      "|       Outlet Stores|  399|\n",
      "|        Summer Camps|  318|\n",
      "|     Clothing Rental|   55|\n",
      "|      Sporting Goods| 2311|\n",
      "|     Cooking Schools|  118|\n",
      "|  College Counseling|   15|\n",
      "|  Lactation Services|   50|\n",
      "|Ski & Snowboard S...|   50|\n",
      "|             Museums|  359|\n",
      "+--------------------+-----+\n",
      "only showing top 20 rows"
     ]
    }
   ],
   "source": [
    "category_count = associ_table_one.select('category').groupby(associ_table_one.category).count()\n",
    "category_count.show()"
   ]
  },
  {
   "cell_type": "markdown",
   "metadata": {},
   "source": [
    "#### Bar Chart of Top Categories\n",
    "With this data available, let us now build a barchart of the top 20 categories"
   ]
  },
  {
   "cell_type": "code",
   "execution_count": 10,
   "metadata": {},
   "outputs": [
    {
     "data": {
      "application/vnd.jupyter.widget-view+json": {
       "model_id": "4cf8515f4fb44a12b74a1623a5ad3454",
       "version_major": 2,
       "version_minor": 0
      },
      "text/plain": [
       "VBox()"
      ]
     },
     "metadata": {},
     "output_type": "display_data"
    },
    {
     "data": {
      "application/vnd.jupyter.widget-view+json": {
       "model_id": "",
       "version_major": 2,
       "version_minor": 0
      },
      "text/plain": [
       "FloatProgress(value=0.0, bar_style='info', description='Progress:', layout=Layout(height='25px', width='50%'),…"
      ]
     },
     "metadata": {},
     "output_type": "display_data"
    },
    {
     "data": {
      "image/png": "[encoded data removed]",
      "text/plain": [
       "<IPython.core.display.Image object>"
      ]
     },
     "metadata": {},
     "output_type": "display_data"
    }
   ],
   "source": [
    "top_20 = category_count.sort(desc('count')).limit(20).toPandas()\n",
    "\n",
    "ax = top_20.plot(kind='barh', x='category', y='count', \n",
    "            figsize=(8, 4), color='#5fa8d3', zorder=2, width=0.85)\n",
    "\n",
    "ax.invert_yaxis()\n",
    "ax.set_xlabel(\"Count\")\n",
    "ax.set_ylabel(\"Category\")\n",
    "ax.set_title(\"Top 20 Categories By Business\")\n",
    "ax.get_legend().remove()\n",
    "\n",
    "plt.tight_layout()\n",
    "%matplot plt"
   ]
  },
  {
   "cell_type": "markdown",
   "metadata": {},
   "source": [
    "Clears the entire current figure with all its axes"
   ]
  },
  {
   "cell_type": "code",
   "execution_count": 11,
   "metadata": {},
   "outputs": [
    {
     "data": {
      "application/vnd.jupyter.widget-view+json": {
       "model_id": "67a6c30cf3ed495f9be68ed128b740c3",
       "version_major": 2,
       "version_minor": 0
      },
      "text/plain": [
       "VBox()"
      ]
     },
     "metadata": {},
     "output_type": "display_data"
    },
    {
     "data": {
      "application/vnd.jupyter.widget-view+json": {
       "model_id": "",
       "version_major": 2,
       "version_minor": 0
      },
      "text/plain": [
       "FloatProgress(value=0.0, bar_style='info', description='Progress:', layout=Layout(height='25px', width='50%'),…"
      ]
     },
     "metadata": {},
     "output_type": "display_data"
    }
   ],
   "source": [
    "plt.clf()\n",
    "plt.cla()\n",
    "plt.close()"
   ]
  },
  {
   "cell_type": "markdown",
   "metadata": {},
   "source": [
    "## Part III. Do Yelp Reviews Skew Negative?\n",
    "Oftentimes, it is said that the only people who write a written review are those who are extremely dissatisfied or extremely satisfied with the service received.\n",
    "\n",
    "How true is this really? Let's try and answer this question."
   ]
  },
  {
   "cell_type": "markdown",
   "metadata": {},
   "source": [
    "### 1. Loading Review Data"
   ]
  },
  {
   "cell_type": "markdown",
   "metadata": {},
   "source": [
    "Begin by loading the review data set from S3 and printing schema to determine what data is available"
   ]
  },
  {
   "cell_type": "code",
   "execution_count": 12,
   "metadata": {},
   "outputs": [
    {
     "data": {
      "application/vnd.jupyter.widget-view+json": {
       "model_id": "83205a258aa340639a3092894c7a9fa1",
       "version_major": 2,
       "version_minor": 0
      },
      "text/plain": [
       "VBox()"
      ]
     },
     "metadata": {},
     "output_type": "display_data"
    },
    {
     "data": {
      "application/vnd.jupyter.widget-view+json": {
       "model_id": "",
       "version_major": 2,
       "version_minor": 0
      },
      "text/plain": [
       "FloatProgress(value=0.0, bar_style='info', description='Progress:', layout=Layout(height='25px', width='50%'),…"
      ]
     },
     "metadata": {},
     "output_type": "display_data"
    },
    {
     "name": "stdout",
     "output_type": "stream",
     "text": [
      "root\n",
      " |-- business_id: string (nullable = true)\n",
      " |-- cool: long (nullable = true)\n",
      " |-- date: string (nullable = true)\n",
      " |-- funny: long (nullable = true)\n",
      " |-- review_id: string (nullable = true)\n",
      " |-- stars: double (nullable = true)\n",
      " |-- text: string (nullable = true)\n",
      " |-- useful: long (nullable = true)\n",
      " |-- user_id: string (nullable = true)"
     ]
    }
   ],
   "source": [
    "review_df = spark.read.json('s3://yelpreviewdataset/yelp_academic_dataset_review.json')\n",
    "review_df.printSchema()"
   ]
  },
  {
   "cell_type": "markdown",
   "metadata": {},
   "source": [
    "Let's begin by listing the business_id and stars columns together for the user reviews data"
   ]
  },
  {
   "cell_type": "code",
   "execution_count": 13,
   "metadata": {},
   "outputs": [
    {
     "data": {
      "application/vnd.jupyter.widget-view+json": {
       "model_id": "b2182139d47e402ea21104bf4aa7c7bf",
       "version_major": 2,
       "version_minor": 0
      },
      "text/plain": [
       "VBox()"
      ]
     },
     "metadata": {},
     "output_type": "display_data"
    },
    {
     "data": {
      "application/vnd.jupyter.widget-view+json": {
       "model_id": "",
       "version_major": 2,
       "version_minor": 0
      },
      "text/plain": [
       "FloatProgress(value=0.0, bar_style='info', description='Progress:', layout=Layout(height='25px', width='50%'),…"
      ]
     },
     "metadata": {},
     "output_type": "display_data"
    },
    {
     "name": "stdout",
     "output_type": "stream",
     "text": [
      "+--------------------+-----+\n",
      "|         business_id|stars|\n",
      "+--------------------+-----+\n",
      "|-MhfebM0QIsKt87iD...|  2.0|\n",
      "|lbrU8StCq3yDfr-QM...|  1.0|\n",
      "|HQl28KMwrEKHqhFrr...|  5.0|\n",
      "|5JxlZaqCnk1MnbgRi...|  1.0|\n",
      "|IS4cv902ykd8wj1TR...|  4.0|\n",
      "+--------------------+-----+\n",
      "only showing top 5 rows"
     ]
    }
   ],
   "source": [
    "business_stars = review_df.select('business_id', 'stars')\n",
    "business_stars.show(5)"
   ]
  },
  {
   "cell_type": "markdown",
   "metadata": {},
   "source": [
    "Now, let's aggregate along the stars column to get a resultant dataframe that displays average stars per business as accumulated by users who **took the time to submit a written review**"
   ]
  },
  {
   "cell_type": "code",
   "execution_count": 14,
   "metadata": {},
   "outputs": [
    {
     "data": {
      "application/vnd.jupyter.widget-view+json": {
       "model_id": "3a8f938516e4441f994630dbe0e2ca4b",
       "version_major": 2,
       "version_minor": 0
      },
      "text/plain": [
       "VBox()"
      ]
     },
     "metadata": {},
     "output_type": "display_data"
    },
    {
     "data": {
      "application/vnd.jupyter.widget-view+json": {
       "model_id": "",
       "version_major": 2,
       "version_minor": 0
      },
      "text/plain": [
       "FloatProgress(value=0.0, bar_style='info', description='Progress:', layout=Layout(height='25px', width='50%'),…"
      ]
     },
     "metadata": {},
     "output_type": "display_data"
    },
    {
     "name": "stdout",
     "output_type": "stream",
     "text": [
      "+--------------------+------------------+\n",
      "|         business_id|        avg(stars)|\n",
      "+--------------------+------------------+\n",
      "|VHsNB3pdGVcRgs6C3...| 3.411764705882353|\n",
      "|RMjCnixEY5i12Ciqn...|3.5316455696202533|\n",
      "|ipFreSFhjClfNETuM...|               2.6|\n",
      "|dLDMU8bOLnkDTmPUr...| 4.942857142857143|\n",
      "|Qm2datcYBPXrPATVG...| 4.352941176470588|\n",
      "+--------------------+------------------+\n",
      "only showing top 5 rows"
     ]
    }
   ],
   "source": [
    "written_review = review_df.where(col(\"text\").isNotNull()).groupby(review_df.business_id).agg(avg(col(\"stars\")))\n",
    "written_review.show(5)"
   ]
  },
  {
   "cell_type": "markdown",
   "metadata": {},
   "source": [
    "Now the fun part - let's join our two dataframes (reviews and business data) by business_id"
   ]
  },
  {
   "cell_type": "code",
   "execution_count": 15,
   "metadata": {},
   "outputs": [
    {
     "data": {
      "application/vnd.jupyter.widget-view+json": {
       "model_id": "00af981387134b738c8c5ce7d253918f",
       "version_major": 2,
       "version_minor": 0
      },
      "text/plain": [
       "VBox()"
      ]
     },
     "metadata": {},
     "output_type": "display_data"
    },
    {
     "data": {
      "application/vnd.jupyter.widget-view+json": {
       "model_id": "",
       "version_major": 2,
       "version_minor": 0
      },
      "text/plain": [
       "FloatProgress(value=0.0, bar_style='info', description='Progress:', layout=Layout(height='25px', width='50%'),…"
      ]
     },
     "metadata": {},
     "output_type": "display_data"
    }
   ],
   "source": [
    "user_review = review_df.groupby(review_df.business_id).agg(avg(col(\"stars\")))\n",
    "# inner join\n",
    "joined_written_review = business_df.join(written_review, on=['business_id'])\n",
    "joined_user_review = business_df.join(user_review,on=['business_id'])"
   ]
  },
  {
   "cell_type": "markdown",
   "metadata": {},
   "source": [
    "Let's see a few of these:"
   ]
  },
  {
   "cell_type": "code",
   "execution_count": 16,
   "metadata": {},
   "outputs": [
    {
     "data": {
      "application/vnd.jupyter.widget-view+json": {
       "model_id": "90097401f94f40b78cd877e5f262ff98",
       "version_major": 2,
       "version_minor": 0
      },
      "text/plain": [
       "VBox()"
      ]
     },
     "metadata": {},
     "output_type": "display_data"
    },
    {
     "data": {
      "application/vnd.jupyter.widget-view+json": {
       "model_id": "",
       "version_major": 2,
       "version_minor": 0
      },
      "text/plain": [
       "FloatProgress(value=0.0, bar_style='info', description='Progress:', layout=Layout(height='25px', width='50%'),…"
      ]
     },
     "metadata": {},
     "output_type": "display_data"
    },
    {
     "name": "stdout",
     "output_type": "stream",
     "text": [
      "+----------+-----+--------------------+------------+-----+\n",
      "|avg(stars)|stars|                name|        city|state|\n",
      "+----------+-----+--------------------+------------+-----+\n",
      "|       5.0|  5.0|Clark Bodywork Th...|  Cave Creek|   AZ|\n",
      "|       5.0|  5.0|Compass Wealth Pl...|  Scottsdale|   AZ|\n",
      "|       5.0|  5.0|     Colossus Tattoo|       Tempe|   AZ|\n",
      "|       5.0|  5.0|         Dream Lawns|   Las Vegas|   NV|\n",
      "|       5.0|  5.0|        Dogs Day Out|Indian Trail|   NC|\n",
      "+----------+-----+--------------------+------------+-----+\n",
      "only showing top 5 rows"
     ]
    }
   ],
   "source": [
    "joined_written_review.select(\"\"\"avg(stars)\"\"\",\"stars\",\"name\",\"city\",\"state\").sort(desc(\"\"\"avg(stars)\"\"\")).show(5)"
   ]
  },
  {
   "cell_type": "markdown",
   "metadata": {},
   "source": [
    "Compute a new dataframe that calculates what we will call the skew (for lack of a better word) between the avg stars accumulated from written reviews and the actual star rating of a business (ie: the average of stars given by reviewers who wrote an actual review and reviewers who just provided a star rating).\n",
    "\n",
    "The formula you can use is something like:\n",
    "\n",
    "(row['avg(stars)'] - row['stars']) / row['stars']\n",
    "\n",
    "If the **skew** is negative, we can interpret that to be: reviewers who left a written response were more dissatisfied than normal. If **skew** is positive, we can interpret that to be: reviewers who left a written response were more satisfied than normal."
   ]
  },
  {
   "cell_type": "code",
   "execution_count": 17,
   "metadata": {},
   "outputs": [
    {
     "data": {
      "application/vnd.jupyter.widget-view+json": {
       "model_id": "bed2e6d16cc0405ca1d5ef21827c0176",
       "version_major": 2,
       "version_minor": 0
      },
      "text/plain": [
       "VBox()"
      ]
     },
     "metadata": {},
     "output_type": "display_data"
    },
    {
     "data": {
      "application/vnd.jupyter.widget-view+json": {
       "model_id": "",
       "version_major": 2,
       "version_minor": 0
      },
      "text/plain": [
       "FloatProgress(value=0.0, bar_style='info', description='Progress:', layout=Layout(height='25px', width='50%'),…"
      ]
     },
     "metadata": {},
     "output_type": "display_data"
    },
    {
     "name": "stdout",
     "output_type": "stream",
     "text": [
      "+------------------+-----+--------------------+-----------+-----+------------------+\n",
      "|        avg(stars)|stars|                name|       city|state|              skew|\n",
      "+------------------+-----+--------------------+-----------+-----+------------------+\n",
      "|2.3333333333333335|  1.0| Mikado Sushi Robata|    Toronto|   ON|1.3333333333333335|\n",
      "|3.3333333333333335|  1.5|Black Brook Golf ...|     Mentor|   OH|1.2222222222222223|\n",
      "|               2.0|  1.0|Torrey Pines Reha...|  Las Vegas|   NV|               1.0|\n",
      "|               2.0|  1.0|DollarPlus Discou...|  Las Vegas|   NV|               1.0|\n",
      "|               2.0|  1.0|          StorageOne|  Las Vegas|   NV|               1.0|\n",
      "|               2.0|  1.0|Foothills Primary...|   Chandler|   AZ|               1.0|\n",
      "|               2.0|  1.0|           H&R Block|    Calgary|   AB|               1.0|\n",
      "|               2.0|  1.0|Children's Campus...|    Phoenix|   AZ|               1.0|\n",
      "|               2.0|  1.0|Affordable Decks ...|Bethel Park|   PA|               1.0|\n",
      "|               2.0|  1.0|Convenient Food M...|     Elyria|   OH|               1.0|\n",
      "|               2.0|  1.0|Golden West Pool ...|  Las Vegas|   NV|               1.0|\n",
      "|               2.0|  1.0|            Water Dr|    Calgary|   AB|               1.0|\n",
      "|               2.8|  1.5|RideNow Powerspor...|    Phoenix|   AZ|0.8666666666666666|\n",
      "|1.8333333333333333|  1.0|Tri-County Snow P...|     Medina|   OH|0.8333333333333333|\n",
      "|               1.8|  1.0|Colangelo's no Fr...|   Oakville|   ON|               0.8|\n",
      "|               1.8|  1.0|Mr. Transmission/...|   Matthews|   NC|               0.8|\n",
      "|               1.8|  1.0|Mathis Towing and...|  Charlotte|   NC|               0.8|\n",
      "|               1.8|  1.0|    1-2-3 Automotive|  Henderson|   NV|               0.8|\n",
      "|               1.8|  1.0|           Euro Gyro|      Akron|   OH|               0.8|\n",
      "|               1.8|  1.0|The Continental A...|    Phoenix|   AZ|               0.8|\n",
      "+------------------+-----+--------------------+-----------+-----+------------------+\n",
      "only showing top 20 rows"
     ]
    }
   ],
   "source": [
    "fv_joined_written_review = joined_written_review.select(\"avg(stars)\",\"stars\",\"name\",\"city\",\"state\") \\\n",
    "                                                .sort(\"\"\"avg(stars)\"\"\",ascending=False)\n",
    "\n",
    "fv_joined_user_review = joined_user_review.select(\"avg(stars)\",\"stars\",\"name\",\"city\",\"state\") \\\n",
    "                                            .sort(\"\"\"avg(stars)\"\"\",ascending=False)\n",
    "\n",
    "fv_df = fv_joined_written_review.withColumn(\"skew\", \\ \n",
    "                                            ((fv_joined_written_review[\"\"\"avg(stars)\"\"\"]-fv_joined_user_review[\"stars\"]) \\\n",
    "                                             /fv_joined_written_review[\"stars\"]))\n",
    "\n",
    "fv_df.sort(\"\"\"skew\"\"\",ascending=False).show()"
   ]
  },
  {
   "cell_type": "code",
   "execution_count": 18,
   "metadata": {},
   "outputs": [
    {
     "data": {
      "application/vnd.jupyter.widget-view+json": {
       "model_id": "04fa7ca196c543cda92ec3a39d64f103",
       "version_major": 2,
       "version_minor": 0
      },
      "text/plain": [
       "VBox()"
      ]
     },
     "metadata": {},
     "output_type": "display_data"
    },
    {
     "data": {
      "application/vnd.jupyter.widget-view+json": {
       "model_id": "",
       "version_major": 2,
       "version_minor": 0
      },
      "text/plain": [
       "FloatProgress(value=0.0, bar_style='info', description='Progress:', layout=Layout(height='25px', width='50%'),…"
      ]
     },
     "metadata": {},
     "output_type": "display_data"
    }
   ],
   "source": [
    "fv_df = fv_df.toPandas()"
   ]
  },
  {
   "cell_type": "markdown",
   "metadata": {},
   "source": [
    "And finally, graph it!"
   ]
  },
  {
   "cell_type": "code",
   "execution_count": 19,
   "metadata": {},
   "outputs": [
    {
     "data": {
      "application/vnd.jupyter.widget-view+json": {
       "model_id": "1b80982199da494eb2af02c08ed0baca",
       "version_major": 2,
       "version_minor": 0
      },
      "text/plain": [
       "VBox()"
      ]
     },
     "metadata": {},
     "output_type": "display_data"
    },
    {
     "data": {
      "application/vnd.jupyter.widget-view+json": {
       "model_id": "",
       "version_major": 2,
       "version_minor": 0
      },
      "text/plain": [
       "FloatProgress(value=0.0, bar_style='info', description='Progress:', layout=Layout(height='25px', width='50%'),…"
      ]
     },
     "metadata": {},
     "output_type": "display_data"
    },
    {
     "data": {
      "image/png": "[encoded data removed]",
      "text/plain": [
       "<IPython.core.display.Image object>"
      ]
     },
     "metadata": {},
     "output_type": "display_data"
    }
   ],
   "source": [
    "plt.figure(figsize=(8,4))\n",
    "ax = sns.distplot(fv_df[\"skew\"])\n",
    "ax.set_xlabel('Skew')\n",
    "plt.title(\"Yelp Review Skew\")\n",
    "\n",
    "%matplot plt"
   ]
  },
  {
   "cell_type": "markdown",
   "metadata": {},
   "source": [
    "Clears the entire current figure with all its axes"
   ]
  },
  {
   "cell_type": "code",
   "execution_count": 20,
   "metadata": {},
   "outputs": [
    {
     "data": {
      "application/vnd.jupyter.widget-view+json": {
       "model_id": "a49ff4254f2946ab966274a8002bb9be",
       "version_major": 2,
       "version_minor": 0
      },
      "text/plain": [
       "VBox()"
      ]
     },
     "metadata": {},
     "output_type": "display_data"
    },
    {
     "data": {
      "application/vnd.jupyter.widget-view+json": {
       "model_id": "",
       "version_major": 2,
       "version_minor": 0
      },
      "text/plain": [
       "FloatProgress(value=0.0, bar_style='info', description='Progress:', layout=Layout(height='25px', width='50%'),…"
      ]
     },
     "metadata": {},
     "output_type": "display_data"
    }
   ],
   "source": [
    "plt.clf()\n",
    "plt.cla()\n",
    "plt.close()"
   ]
  },
  {
   "cell_type": "markdown",
   "metadata": {},
   "source": [
    "So, do Yelp (written) Reviews skew negative? Does this analysis actually prove anything? Expound on implications / interpretations of this graph.\n",
    "\n",
    "The distribution of skew appears to be normal, but skewed a little bit to the right. The implications of the above graph are that the satisfaction level of reviewers who left positively skewed reviews is greater than the dissatisfaction level of reviewers who left negatively skewed reviews."
   ]
  },
  {
   "cell_type": "markdown",
   "metadata": {},
   "source": [
    "## Part IV. Should the Elite be Trusted? \n",
    "How accurate or close are the ratings of an \"elite\" user (check Users table schema) vs the actual business rating\n",
    "\n",
    "It takes a special Yelper to become an Elite. Frequent, quality reviews and photos are important in the application of the elite status on Yelp. Elite candidates need to meet the criteria below for the consideration. \n",
    "\n",
    "To become Elite, Yelpers agree that they\n",
    "\n",
    "- Are using their real name on Yelp.\n",
    "- Have a clear photo of themself on their profile page.\n",
    "- Are of legal drinking age where they live.\n",
    "\n",
    "They also agree that they are NOT\n",
    "- A business owner.\n",
    "- Closely affiliated with a business owner. \n",
    "- Managing a Yelp Business Account.\n",
    "- Working for one of Yelp's competitors.\n",
    "\n",
    "It's important to know that accepting compensation or freebies in exchange for reviews or leveraging the Elite Squad for personal or commercial gain will result in Elite status being revoked or account closure."
   ]
  },
  {
   "cell_type": "markdown",
   "metadata": {},
   "source": [
    "### 1. Loading User Data"
   ]
  },
  {
   "cell_type": "code",
   "execution_count": 21,
   "metadata": {},
   "outputs": [
    {
     "data": {
      "application/vnd.jupyter.widget-view+json": {
       "model_id": "3c98e7fc6bfa44ba85738149a2276e18",
       "version_major": 2,
       "version_minor": 0
      },
      "text/plain": [
       "VBox()"
      ]
     },
     "metadata": {},
     "output_type": "display_data"
    },
    {
     "data": {
      "application/vnd.jupyter.widget-view+json": {
       "model_id": "",
       "version_major": 2,
       "version_minor": 0
      },
      "text/plain": [
       "FloatProgress(value=0.0, bar_style='info', description='Progress:', layout=Layout(height='25px', width='50%'),…"
      ]
     },
     "metadata": {},
     "output_type": "display_data"
    }
   ],
   "source": [
    "user_df = spark.read.json('s3://yelpreviewdataset/yelp_academic_dataset_user.json')"
   ]
  },
  {
   "cell_type": "markdown",
   "metadata": {},
   "source": [
    "### 2. Overview of Data"
   ]
  },
  {
   "cell_type": "code",
   "execution_count": 22,
   "metadata": {},
   "outputs": [
    {
     "data": {
      "application/vnd.jupyter.widget-view+json": {
       "model_id": "2102c051e8d04060af956a1f4aea9306",
       "version_major": 2,
       "version_minor": 0
      },
      "text/plain": [
       "VBox()"
      ]
     },
     "metadata": {},
     "output_type": "display_data"
    },
    {
     "data": {
      "application/vnd.jupyter.widget-view+json": {
       "model_id": "",
       "version_major": 2,
       "version_minor": 0
      },
      "text/plain": [
       "FloatProgress(value=0.0, bar_style='info', description='Progress:', layout=Layout(height='25px', width='50%'),…"
      ]
     },
     "metadata": {},
     "output_type": "display_data"
    },
    {
     "name": "stdout",
     "output_type": "stream",
     "text": [
      "root\n",
      " |-- average_stars: double (nullable = true)\n",
      " |-- compliment_cool: long (nullable = true)\n",
      " |-- compliment_cute: long (nullable = true)\n",
      " |-- compliment_funny: long (nullable = true)\n",
      " |-- compliment_hot: long (nullable = true)\n",
      " |-- compliment_list: long (nullable = true)\n",
      " |-- compliment_more: long (nullable = true)\n",
      " |-- compliment_note: long (nullable = true)\n",
      " |-- compliment_photos: long (nullable = true)\n",
      " |-- compliment_plain: long (nullable = true)\n",
      " |-- compliment_profile: long (nullable = true)\n",
      " |-- compliment_writer: long (nullable = true)\n",
      " |-- cool: long (nullable = true)\n",
      " |-- elite: string (nullable = true)\n",
      " |-- fans: long (nullable = true)\n",
      " |-- friends: string (nullable = true)\n",
      " |-- funny: long (nullable = true)\n",
      " |-- name: string (nullable = true)\n",
      " |-- review_count: long (nullable = true)\n",
      " |-- useful: long (nullable = true)\n",
      " |-- user_id: string (nullable = true)\n",
      " |-- yelping_since: string (nullable = true)\n",
      "\n",
      "User Dataset Columns: 22 | Rows: 1,968,703\n",
      "root\n",
      " |-- business_id: string (nullable = true)\n",
      " |-- cool: long (nullable = true)\n",
      " |-- date: string (nullable = true)\n",
      " |-- funny: long (nullable = true)\n",
      " |-- review_id: string (nullable = true)\n",
      " |-- stars: double (nullable = true)\n",
      " |-- text: string (nullable = true)\n",
      " |-- useful: long (nullable = true)\n",
      " |-- user_id: string (nullable = true)\n",
      "\n",
      "Review Dataset Columns: 9 | Rows: 8,021,122"
     ]
    }
   ],
   "source": [
    "user_df.printSchema()\n",
    "print(f'User Dataset Columns: {len(user_df.columns)} | Rows: {user_df.count():,}')\n",
    "review_df.printSchema()\n",
    "print(f'Review Dataset Columns: {len(review_df.columns)} | Rows: {review_df.count():,}')"
   ]
  },
  {
   "cell_type": "code",
   "execution_count": 23,
   "metadata": {},
   "outputs": [
    {
     "data": {
      "application/vnd.jupyter.widget-view+json": {
       "model_id": "a7888c40b7a544e5af8b0d1b0664d39e",
       "version_major": 2,
       "version_minor": 0
      },
      "text/plain": [
       "VBox()"
      ]
     },
     "metadata": {},
     "output_type": "display_data"
    },
    {
     "data": {
      "application/vnd.jupyter.widget-view+json": {
       "model_id": "",
       "version_major": 2,
       "version_minor": 0
      },
      "text/plain": [
       "FloatProgress(value=0.0, bar_style='info', description='Progress:', layout=Layout(height='25px', width='50%'),…"
      ]
     },
     "metadata": {},
     "output_type": "display_data"
    },
    {
     "name": "stdout",
     "output_type": "stream",
     "text": [
      "+--------------------+--------------------+\n",
      "|             user_id|               elite|\n",
      "+--------------------+--------------------+\n",
      "|ntlvfPzc8eglqvk92...|                    |\n",
      "|FOBRPlBHa3WPHFB5q...|2008,2009,2010,20...|\n",
      "|zZUnPeh2hEp0WydbA...|                2010|\n",
      "|QaELAmRcDc5TfJEyl...|                2009|\n",
      "|xvu8G900tezTzbbfq...|2009,2010,2011,20...|\n",
      "+--------------------+--------------------+\n",
      "only showing top 5 rows"
     ]
    }
   ],
   "source": [
    "user_df.select('user_id','elite').show(5)"
   ]
  },
  {
   "cell_type": "markdown",
   "metadata": {},
   "source": [
    "### 3. Split Elite column"
   ]
  },
  {
   "cell_type": "code",
   "execution_count": 24,
   "metadata": {},
   "outputs": [
    {
     "data": {
      "application/vnd.jupyter.widget-view+json": {
       "model_id": "d44df40a4e1f4cf088a51ebec78dabcd",
       "version_major": 2,
       "version_minor": 0
      },
      "text/plain": [
       "VBox()"
      ]
     },
     "metadata": {},
     "output_type": "display_data"
    },
    {
     "data": {
      "application/vnd.jupyter.widget-view+json": {
       "model_id": "",
       "version_major": 2,
       "version_minor": 0
      },
      "text/plain": [
       "FloatProgress(value=0.0, bar_style='info', description='Progress:', layout=Layout(height='25px', width='50%'),…"
      ]
     },
     "metadata": {},
     "output_type": "display_data"
    },
    {
     "name": "stdout",
     "output_type": "stream",
     "text": [
      "+--------------------+-----+\n",
      "|             user_id|elite|\n",
      "+--------------------+-----+\n",
      "|ntlvfPzc8eglqvk92...| null|\n",
      "|FOBRPlBHa3WPHFB5q...| 2008|\n",
      "|FOBRPlBHa3WPHFB5q...| 2009|\n",
      "|FOBRPlBHa3WPHFB5q...| 2010|\n",
      "|FOBRPlBHa3WPHFB5q...| 2011|\n",
      "+--------------------+-----+\n",
      "only showing top 5 rows\n",
      "\n",
      "User Elite Split Dataset Columns: 2 | Rows: 2,125,315"
     ]
    }
   ],
   "source": [
    "user_elite_split = user_df.select('user_id', explode(split(user_df.elite, ',')).alias('elite'))\n",
    "user_elite_split = user_elite_split.withColumn('elite', user_elite_split.elite.cast(IntegerType()))\n",
    "user_elite_split.show(5)\n",
    "print(f'User Elite Split Dataset Columns: {len(user_elite_split.columns)} | Rows: {user_elite_split.count():,}')"
   ]
  },
  {
   "cell_type": "code",
   "execution_count": 25,
   "metadata": {},
   "outputs": [
    {
     "data": {
      "application/vnd.jupyter.widget-view+json": {
       "model_id": "8ccd29879d694f25bc94301b4607ff95",
       "version_major": 2,
       "version_minor": 0
      },
      "text/plain": [
       "VBox()"
      ]
     },
     "metadata": {},
     "output_type": "display_data"
    },
    {
     "data": {
      "application/vnd.jupyter.widget-view+json": {
       "model_id": "",
       "version_major": 2,
       "version_minor": 0
      },
      "text/plain": [
       "FloatProgress(value=0.0, bar_style='info', description='Progress:', layout=Layout(height='25px', width='50%'),…"
      ]
     },
     "metadata": {},
     "output_type": "display_data"
    },
    {
     "name": "stdout",
     "output_type": "stream",
     "text": [
      "+-----+\n",
      "|elite|\n",
      "+-----+\n",
      "| 2018|\n",
      "| 2017|\n",
      "| 2016|\n",
      "| 2015|\n",
      "| 2014|\n",
      "| 2013|\n",
      "| 2012|\n",
      "| 2011|\n",
      "| 2010|\n",
      "| 2009|\n",
      "| 2008|\n",
      "| 2007|\n",
      "| 2006|\n",
      "| null|\n",
      "+-----+"
     ]
    }
   ],
   "source": [
    "user_elite_split.select(\"elite\").distinct().sort('elite', ascending=False).show()"
   ]
  },
  {
   "cell_type": "code",
   "execution_count": 26,
   "metadata": {},
   "outputs": [
    {
     "data": {
      "application/vnd.jupyter.widget-view+json": {
       "model_id": "82d986d07f8743bd9ac085388935ffd2",
       "version_major": 2,
       "version_minor": 0
      },
      "text/plain": [
       "VBox()"
      ]
     },
     "metadata": {},
     "output_type": "display_data"
    },
    {
     "data": {
      "application/vnd.jupyter.widget-view+json": {
       "model_id": "",
       "version_major": 2,
       "version_minor": 0
      },
      "text/plain": [
       "FloatProgress(value=0.0, bar_style='info', description='Progress:', layout=Layout(height='25px', width='50%'),…"
      ]
     },
     "metadata": {},
     "output_type": "display_data"
    },
    {
     "name": "stdout",
     "output_type": "stream",
     "text": [
      "+--------------------+------------+\n",
      "|             user_id|Elite or Not|\n",
      "+--------------------+------------+\n",
      "|ntlvfPzc8eglqvk92...|   Not Elite|\n",
      "|FOBRPlBHa3WPHFB5q...|       Elite|\n",
      "|FOBRPlBHa3WPHFB5q...|       Elite|\n",
      "|FOBRPlBHa3WPHFB5q...|       Elite|\n",
      "|FOBRPlBHa3WPHFB5q...|       Elite|\n",
      "|FOBRPlBHa3WPHFB5q...|       Elite|\n",
      "|FOBRPlBHa3WPHFB5q...|       Elite|\n",
      "|zZUnPeh2hEp0WydbA...|       Elite|\n",
      "|QaELAmRcDc5TfJEyl...|       Elite|\n",
      "|xvu8G900tezTzbbfq...|       Elite|\n",
      "|xvu8G900tezTzbbfq...|       Elite|\n",
      "|xvu8G900tezTzbbfq...|       Elite|\n",
      "|xvu8G900tezTzbbfq...|       Elite|\n",
      "|xvu8G900tezTzbbfq...|       Elite|\n",
      "|xvu8G900tezTzbbfq...|       Elite|\n",
      "|xvu8G900tezTzbbfq...|       Elite|\n",
      "|xvu8G900tezTzbbfq...|       Elite|\n",
      "|xvu8G900tezTzbbfq...|       Elite|\n",
      "|z5_82komKV3mI4ASG...|       Elite|\n",
      "|ttumcu6hWshk_EJVW...|   Not Elite|\n",
      "+--------------------+------------+\n",
      "only showing top 20 rows"
     ]
    }
   ],
   "source": [
    "Elite_or_Not = user_elite_split.select('user_id',\n",
    "           when(user_elite_split.elite.isNull(), \"Not Elite\").otherwise(\"Elite\").alias('Elite or Not'))\n",
    "Elite_or_Not.show()"
   ]
  },
  {
   "cell_type": "code",
   "execution_count": 27,
   "metadata": {},
   "outputs": [
    {
     "data": {
      "application/vnd.jupyter.widget-view+json": {
       "model_id": "843fa9a1ee6c4ef99f04d15c3ba03865",
       "version_major": 2,
       "version_minor": 0
      },
      "text/plain": [
       "VBox()"
      ]
     },
     "metadata": {},
     "output_type": "display_data"
    },
    {
     "data": {
      "application/vnd.jupyter.widget-view+json": {
       "model_id": "",
       "version_major": 2,
       "version_minor": 0
      },
      "text/plain": [
       "FloatProgress(value=0.0, bar_style='info', description='Progress:', layout=Layout(height='25px', width='50%'),…"
      ]
     },
     "metadata": {},
     "output_type": "display_data"
    },
    {
     "name": "stdout",
     "output_type": "stream",
     "text": [
      "+--------------------+------------+\n",
      "|             user_id|Elite or Not|\n",
      "+--------------------+------------+\n",
      "|---RfKzBwQ8t3wu-L...|   Not Elite|\n",
      "|--1UpCuUDJQbqiuFX...|   Not Elite|\n",
      "|--AGAPpP1pgp1afbq...|   Not Elite|\n",
      "|--C-42rr7hPSsUROJ...|   Not Elite|\n",
      "|--ChzqcPs4YFWlw1j...|   Not Elite|\n",
      "|--ET3paBtrThD95dk...|   Not Elite|\n",
      "|--GLTFzU93A40YB56...|   Not Elite|\n",
      "|--I4wRDhmM2J2VLzK...|   Not Elite|\n",
      "|--RquisWmBzcezXZr...|   Not Elite|\n",
      "|--UizzbnQlZg7bEv2...|   Not Elite|\n",
      "|--cd_gA-9Q8gM9P2c...|   Not Elite|\n",
      "|--dhSVoOFDBiMCCwD...|   Not Elite|\n",
      "|--fpTdHQOGWGbAjk9...|   Not Elite|\n",
      "|--ju6XpRd0dY1Swmf...|   Not Elite|\n",
      "|--oVdTxVd7QVr8Y0U...|   Not Elite|\n",
      "|--pWqE-KOwDWo5ADG...|   Not Elite|\n",
      "|--t6W1JHbStaCp5RO...|   Not Elite|\n",
      "|--tmwndDOZJwfRvvt...|   Not Elite|\n",
      "|--yrdC1dIR6VYsW6k...|   Not Elite|\n",
      "|-06viLTmtlRTHxxDg...|   Not Elite|\n",
      "+--------------------+------------+\n",
      "only showing top 20 rows"
     ]
    }
   ],
   "source": [
    "unique_user_df = Elite_or_Not.dropDuplicates(['user_id'])\n",
    "unique_user_df.show()"
   ]
  },
  {
   "cell_type": "markdown",
   "metadata": {},
   "source": [
    "### 4. Join \"Unique User\" Dataset with Review Dataset"
   ]
  },
  {
   "cell_type": "code",
   "execution_count": 28,
   "metadata": {},
   "outputs": [
    {
     "data": {
      "application/vnd.jupyter.widget-view+json": {
       "model_id": "a274e9d98da447759dee2709a3a9c0a7",
       "version_major": 2,
       "version_minor": 0
      },
      "text/plain": [
       "VBox()"
      ]
     },
     "metadata": {},
     "output_type": "display_data"
    },
    {
     "data": {
      "application/vnd.jupyter.widget-view+json": {
       "model_id": "",
       "version_major": 2,
       "version_minor": 0
      },
      "text/plain": [
       "FloatProgress(value=0.0, bar_style='info', description='Progress:', layout=Layout(height='25px', width='50%'),…"
      ]
     },
     "metadata": {},
     "output_type": "display_data"
    },
    {
     "name": "stdout",
     "output_type": "stream",
     "text": [
      "User Join Review Dataset Columns: 10 | Rows: 8,021,122"
     ]
    }
   ],
   "source": [
    "user_join_review = review_df.join(unique_user_df, on = \"user_id\", how='left')\n",
    "print(f'User Join Review Dataset Columns: {len(user_join_review.columns)} | Rows: {user_join_review.count():,}')"
   ]
  },
  {
   "cell_type": "markdown",
   "metadata": {},
   "source": [
    "### 5. Clean Data"
   ]
  },
  {
   "cell_type": "markdown",
   "metadata": {},
   "source": [
    "Combined Dateset which includes elite and non-elite"
   ]
  },
  {
   "cell_type": "code",
   "execution_count": 29,
   "metadata": {},
   "outputs": [
    {
     "data": {
      "application/vnd.jupyter.widget-view+json": {
       "model_id": "a6a415a95b2b4554810b365b7a8d7a5a",
       "version_major": 2,
       "version_minor": 0
      },
      "text/plain": [
       "VBox()"
      ]
     },
     "metadata": {},
     "output_type": "display_data"
    },
    {
     "data": {
      "application/vnd.jupyter.widget-view+json": {
       "model_id": "",
       "version_major": 2,
       "version_minor": 0
      },
      "text/plain": [
       "FloatProgress(value=0.0, bar_style='info', description='Progress:', layout=Layout(height='25px', width='50%'),…"
      ]
     },
     "metadata": {},
     "output_type": "display_data"
    },
    {
     "name": "stdout",
     "output_type": "stream",
     "text": [
      "+--------------------+--------------------+-----+--------------------+------------+\n",
      "|           review_id|         business_id|stars|             user_id|Elite or Not|\n",
      "+--------------------+--------------------+-----+--------------------+------------+\n",
      "|rv2EaVEP_cs0Yzc-z...|Z3ZSar8IVAR2qIupq...|  5.0|---RfKzBwQ8t3wu-L...|   Not Elite|\n",
      "|HVR4EWzZMlyPrdbzE...|kJhQq1BFz7lOYLve7...|  1.0|--1UpCuUDJQbqiuFX...|   Not Elite|\n",
      "|uy83M2YEnInksqsKX...|EpPOZAG0u7qHP-jv5...|  5.0|--1UpCuUDJQbqiuFX...|   Not Elite|\n",
      "|EHsBHPADGfllO2Zm5...|OLmcIJ7VBCxaYhZSN...|  5.0|--AGAPpP1pgp1afbq...|   Not Elite|\n",
      "|xtHcnwOx-27sunclu...|WoiOpMEcbAfOqNYXq...|  5.0|--AGAPpP1pgp1afbq...|   Not Elite|\n",
      "|pFq8ijDeB-Gz1HXsS...|L-_-9JNAb6UDyq7wa...|  4.0|--C-42rr7hPSsUROJ...|   Not Elite|\n",
      "|V4nVpftxljW4sFOgO...|6pG7n8Rx_7ZXeQQk6...|  2.0|--ChzqcPs4YFWlw1j...|   Not Elite|\n",
      "|SI_ONkbwzN_i38Gvg...|4KmrrhtfnngTVFa2d...|  4.0|--ChzqcPs4YFWlw1j...|   Not Elite|\n",
      "|fHqAyF58eC6vC4_BP...|AMTNJbYbu0OMMAkx4...|  4.0|--ChzqcPs4YFWlw1j...|   Not Elite|\n",
      "|bQkvjkpLZmtFYaYdO...|KVsv8wRGnLX8QWoNZ...|  3.0|--ChzqcPs4YFWlw1j...|   Not Elite|\n",
      "|YSW-S2XUyCKR3jUtW...|F9CcIFltPDXiOkCCF...|  4.0|--ChzqcPs4YFWlw1j...|   Not Elite|\n",
      "|mfqVYzvoeiZREW8bs...|QZV9hW3WP9o9SmmV2...|  5.0|--ET3paBtrThD95dk...|   Not Elite|\n",
      "|99Vpr7r8dGR0txvL3...|pT6baSMzC6rZfwhp_...|  5.0|--GLTFzU93A40YB56...|   Not Elite|\n",
      "|YQN6mfSAX12LFsn6r...|JmI9nslLD7KZqRr__...|  2.0|--I4wRDhmM2J2VLzK...|   Not Elite|\n",
      "|cqrmoHebDTzgc5hjO...|XNFA-aJFX8IQjol8D...|  4.0|--RquisWmBzcezXZr...|   Not Elite|\n",
      "|ubpg7b5NJUih_A_2d...|W2Vis19kUa7kP6GkS...|  5.0|--RquisWmBzcezXZr...|   Not Elite|\n",
      "|X2sbxAYTM9KYjyP0e...|HW7JPZBImm3tyEpDg...|  5.0|--RquisWmBzcezXZr...|   Not Elite|\n",
      "|Bz_KEvFEyKL1QtbFe...|hDD6-yk1yuuRIvfdt...|  2.0|--UizzbnQlZg7bEv2...|   Not Elite|\n",
      "|PR0lxlQOsrxmQ8TIu...|9Eghhu_LzEJgDKNgi...|  4.0|--cd_gA-9Q8gM9P2c...|   Not Elite|\n",
      "|CtO3r0f40jz05T1jm...|fQwB9Z98YEhkJit7c...|  3.0|--cd_gA-9Q8gM9P2c...|   Not Elite|\n",
      "+--------------------+--------------------+-----+--------------------+------------+\n",
      "only showing top 20 rows"
     ]
    }
   ],
   "source": [
    "combine_df = user_join_review.select('review_id','business_id','stars','user_id','Elite or Not')\n",
    "combine_df.show()"
   ]
  },
  {
   "cell_type": "markdown",
   "metadata": {},
   "source": [
    "Combined (Elite and Non-Elite) Average Ratings Grouped by Business ID"
   ]
  },
  {
   "cell_type": "code",
   "execution_count": 30,
   "metadata": {},
   "outputs": [
    {
     "data": {
      "application/vnd.jupyter.widget-view+json": {
       "model_id": "965d773d8da840b3a8de25f512c98913",
       "version_major": 2,
       "version_minor": 0
      },
      "text/plain": [
       "VBox()"
      ]
     },
     "metadata": {},
     "output_type": "display_data"
    },
    {
     "data": {
      "application/vnd.jupyter.widget-view+json": {
       "model_id": "",
       "version_major": 2,
       "version_minor": 0
      },
      "text/plain": [
       "FloatProgress(value=0.0, bar_style='info', description='Progress:', layout=Layout(height='25px', width='50%'),…"
      ]
     },
     "metadata": {},
     "output_type": "display_data"
    },
    {
     "name": "stdout",
     "output_type": "stream",
     "text": [
      "+--------------------+------------------+\n",
      "|         business_id|             Stars|\n",
      "+--------------------+------------------+\n",
      "|RtUvSWO_UZ8V3Wpj0...| 4.133498145859085|\n",
      "|oFsufzhFo0QUlgkXd...|               3.0|\n",
      "|uC3qwaxsOkdJzpOc0...| 3.368948247078464|\n",
      "|VmSrPPO2WXmOKjUW7...| 3.227906976744186|\n",
      "|--9e1ONYQuAa-CB_R...|  4.11784140969163|\n",
      "|eKznX8VTfcQrjCqXp...|4.3584905660377355|\n",
      "|l3V86Z6oAzpnwe1VY...|3.1710526315789473|\n",
      "|35X1ZV9tSEqB__yJE...|3.0316742081447963|\n",
      "|jfdUtdkXogP2kjK5K...|3.6323529411764706|\n",
      "|llCxryWr8j1S39tus...|  4.43839541547278|\n",
      "|cz5vz-893D3LNH3TM...| 3.803514376996805|\n",
      "|iOhHDavGdswJQlPW5...|2.0508474576271185|\n",
      "|xusE_x84QOEDaRZ8r...|3.7096774193548385|\n",
      "|oVTvVdJiaRAwBLy6H...| 4.159090909090909|\n",
      "|G58YATMKnn-M-RUDW...|3.5725806451612905|\n",
      "|_iHxdOWFP3iSHbAB4...| 4.066666666666666|\n",
      "|3lFUdYf2zfFxrm8LI...|1.7096774193548387|\n",
      "|N3J76CRP2H52NUo4V...|              4.24|\n",
      "|umwULmdsxx8aTsoRQ...| 2.388888888888889|\n",
      "|VHsNB3pdGVcRgs6C3...| 3.411764705882353|\n",
      "+--------------------+------------------+\n",
      "only showing top 20 rows"
     ]
    }
   ],
   "source": [
    "combine_stars_df = combine_df.groupBy(\"business_id\").agg(F.mean('stars').alias('Stars'))\n",
    "combine_stars_df.show()"
   ]
  },
  {
   "cell_type": "markdown",
   "metadata": {},
   "source": [
    "Elite Only Dataset"
   ]
  },
  {
   "cell_type": "code",
   "execution_count": 31,
   "metadata": {},
   "outputs": [
    {
     "data": {
      "application/vnd.jupyter.widget-view+json": {
       "model_id": "c5eff7a9c5e041559f2a1dd62a73ff29",
       "version_major": 2,
       "version_minor": 0
      },
      "text/plain": [
       "VBox()"
      ]
     },
     "metadata": {},
     "output_type": "display_data"
    },
    {
     "data": {
      "application/vnd.jupyter.widget-view+json": {
       "model_id": "",
       "version_major": 2,
       "version_minor": 0
      },
      "text/plain": [
       "FloatProgress(value=0.0, bar_style='info', description='Progress:', layout=Layout(height='25px', width='50%'),…"
      ]
     },
     "metadata": {},
     "output_type": "display_data"
    },
    {
     "name": "stdout",
     "output_type": "stream",
     "text": [
      "+--------------------+--------------------+-----+--------------------+------------+\n",
      "|           review_id|         business_id|stars|             user_id|Elite or Not|\n",
      "+--------------------+--------------------+-----+--------------------+------------+\n",
      "|TJDpUewi8F1E9eUgi...|qalkZ4AQDWzYrFvQV...|  5.0|-1_RJoRLeoDK3h_gN...|       Elite|\n",
      "|ygfb-2RWSKtI3jVC3...|0gXYLVPNWz0WT8wXQ...|  4.0|-1_RJoRLeoDK3h_gN...|       Elite|\n",
      "|84GE9SrQCw-Yv-qpM...|W2CzAePJakvARgoQu...|  3.0|-1_RJoRLeoDK3h_gN...|       Elite|\n",
      "|3QvS6Ued-M__5Wjln...|fE9SP84G6TZrv36FL...|  3.0|-1_RJoRLeoDK3h_gN...|       Elite|\n",
      "|ITIUKGvnRE3u6RLns...|7FvDsYqtij_BbaGVt...|  3.0|-1_RJoRLeoDK3h_gN...|       Elite|\n",
      "|W4FCaD23_CzAoC28j...|A4zLP5AyKEEHQr_dW...|  4.0|-1_RJoRLeoDK3h_gN...|       Elite|\n",
      "|6aNCF2uoLILz27pWS...|90bL34o2KEes9pUnC...|  4.0|-1_RJoRLeoDK3h_gN...|       Elite|\n",
      "|tyTkxTaNh1sL8t9XK...|iCQpiavjjPzJ5_3gP...|  4.0|-1_RJoRLeoDK3h_gN...|       Elite|\n",
      "|bAd_-cPcZNsVfhFgN...|_w5hBpkjHs5_Hv3pL...|  4.0|-1_RJoRLeoDK3h_gN...|       Elite|\n",
      "|kKuzCM7kpGqCUe3iD...|Yl05MqCs9xRzrJFkG...|  5.0|-1_RJoRLeoDK3h_gN...|       Elite|\n",
      "|EIKPUavToyh-dz2eE...|WYw3Uf56DT5IwpaLN...|  5.0|-1_RJoRLeoDK3h_gN...|       Elite|\n",
      "|yUWEX8m3DnwI3YnNW...|MBekdd_f7S1ezEzZb...|  5.0|-1xh43lAhmrByuMzc...|       Elite|\n",
      "|X_JpVPD3EoPF8YRpb...|LYNKKnl4jAiU1-U-9...|  4.0|-1xh43lAhmrByuMzc...|       Elite|\n",
      "|qIhEdr18_bLGuaiRL...|TqUVH7Ox_3qEkCxCC...|  4.0|-1xh43lAhmrByuMzc...|       Elite|\n",
      "|cH2NQPJo0LxVwc5IJ...|XVjTeFc18ihrT06SU...|  2.0|-1xh43lAhmrByuMzc...|       Elite|\n",
      "|0fWB1f-2BK9fMgYTA...|M4vh_kzppP1nsxo7h...|  3.0|-1xh43lAhmrByuMzc...|       Elite|\n",
      "|my4UdVCrQ9dITsWRO...|mz9ltimeAIy2c2qf5...|  5.0|-1xh43lAhmrByuMzc...|       Elite|\n",
      "|23fDyVgPz7-gHvNvx...|deL9fV4Jw3XhS0WqG...|  4.0|-1xh43lAhmrByuMzc...|       Elite|\n",
      "|wF-_nw2kG_vQOO79N...|deL9fV4Jw3XhS0WqG...|  4.0|-1xh43lAhmrByuMzc...|       Elite|\n",
      "|gJeVSSm1CQ6XOLh0v...|KdQM64AQ5_ppgs6Ro...|  4.0|-1xh43lAhmrByuMzc...|       Elite|\n",
      "+--------------------+--------------------+-----+--------------------+------------+\n",
      "only showing top 20 rows"
     ]
    }
   ],
   "source": [
    "elite_df = combine_df.filter(col(\"Elite or Not\") == \"Elite\")  \n",
    "elite_df.show()"
   ]
  },
  {
   "cell_type": "markdown",
   "metadata": {},
   "source": [
    "Elite Average Rating Grouped by Business ID"
   ]
  },
  {
   "cell_type": "code",
   "execution_count": 32,
   "metadata": {},
   "outputs": [
    {
     "data": {
      "application/vnd.jupyter.widget-view+json": {
       "model_id": "c333a3b678194ca99aea9d37e0140607",
       "version_major": 2,
       "version_minor": 0
      },
      "text/plain": [
       "VBox()"
      ]
     },
     "metadata": {},
     "output_type": "display_data"
    },
    {
     "data": {
      "application/vnd.jupyter.widget-view+json": {
       "model_id": "",
       "version_major": 2,
       "version_minor": 0
      },
      "text/plain": [
       "FloatProgress(value=0.0, bar_style='info', description='Progress:', layout=Layout(height='25px', width='50%'),…"
      ]
     },
     "metadata": {},
     "output_type": "display_data"
    },
    {
     "name": "stdout",
     "output_type": "stream",
     "text": [
      "+--------------------+--------------------+\n",
      "|         business_id|Stars rated by elite|\n",
      "+--------------------+--------------------+\n",
      "|eKznX8VTfcQrjCqXp...|   4.268817204301075|\n",
      "|RtUvSWO_UZ8V3Wpj0...|   4.156193895870736|\n",
      "|rtwojGcYuhbLbQ9D1...|  3.3636363636363638|\n",
      "|--9e1ONYQuAa-CB_R...|  4.1916058394160585|\n",
      "|X6jKCn5FoRiJ1t7y4...|                 4.5|\n",
      "|SjgeuBlgKER9yegpo...|  3.8938775510204082|\n",
      "|jfdUtdkXogP2kjK5K...|  3.3846153846153846|\n",
      "|uC3qwaxsOkdJzpOc0...|  3.6745562130177514|\n",
      "|yJGr28OXuMk2bCKYl...|               3.125|\n",
      "|f4mh1Y0rnvbJRfQ3j...|               3.875|\n",
      "|cz5vz-893D3LNH3TM...|  3.8587570621468927|\n",
      "|MEoDTsA3Af6TLzB7Z...|  3.2142857142857144|\n",
      "|qtsrM6Xxh1LqxG0X6...|                 4.5|\n",
      "|OjuzFQpprqmuapKh6...|                 3.6|\n",
      "|VmSrPPO2WXmOKjUW7...|   3.423076923076923|\n",
      "|Rxb7oKtKyDUwuFNc2...|  3.4285714285714284|\n",
      "|4iY_gyKX2ogbem7ra...|   4.444444444444445|\n",
      "|mx0Pjm0erpv1CqsRI...|                 3.8|\n",
      "|VHsNB3pdGVcRgs6C3...|                 4.0|\n",
      "|LCRdP3m826-Df52-x...|                 1.0|\n",
      "+--------------------+--------------------+\n",
      "only showing top 20 rows"
     ]
    }
   ],
   "source": [
    "elite_stars_df = elite_df.groupBy(\"business_id\").agg(F.mean('stars').alias('Stars rated by elite'))\n",
    "elite_stars_df.show()"
   ]
  },
  {
   "cell_type": "markdown",
   "metadata": {},
   "source": [
    "Non-Elite Dataset"
   ]
  },
  {
   "cell_type": "code",
   "execution_count": 33,
   "metadata": {},
   "outputs": [
    {
     "data": {
      "application/vnd.jupyter.widget-view+json": {
       "model_id": "7be90ecc13344c7da3233e3866e7e20b",
       "version_major": 2,
       "version_minor": 0
      },
      "text/plain": [
       "VBox()"
      ]
     },
     "metadata": {},
     "output_type": "display_data"
    },
    {
     "data": {
      "application/vnd.jupyter.widget-view+json": {
       "model_id": "",
       "version_major": 2,
       "version_minor": 0
      },
      "text/plain": [
       "FloatProgress(value=0.0, bar_style='info', description='Progress:', layout=Layout(height='25px', width='50%'),…"
      ]
     },
     "metadata": {},
     "output_type": "display_data"
    },
    {
     "name": "stdout",
     "output_type": "stream",
     "text": [
      "+--------------------+--------------------+-----+--------------------+------------+\n",
      "|           review_id|         business_id|stars|             user_id|Elite or Not|\n",
      "+--------------------+--------------------+-----+--------------------+------------+\n",
      "|rv2EaVEP_cs0Yzc-z...|Z3ZSar8IVAR2qIupq...|  5.0|---RfKzBwQ8t3wu-L...|   Not Elite|\n",
      "|uy83M2YEnInksqsKX...|EpPOZAG0u7qHP-jv5...|  5.0|--1UpCuUDJQbqiuFX...|   Not Elite|\n",
      "|HVR4EWzZMlyPrdbzE...|kJhQq1BFz7lOYLve7...|  1.0|--1UpCuUDJQbqiuFX...|   Not Elite|\n",
      "|EHsBHPADGfllO2Zm5...|OLmcIJ7VBCxaYhZSN...|  5.0|--AGAPpP1pgp1afbq...|   Not Elite|\n",
      "|xtHcnwOx-27sunclu...|WoiOpMEcbAfOqNYXq...|  5.0|--AGAPpP1pgp1afbq...|   Not Elite|\n",
      "|pFq8ijDeB-Gz1HXsS...|L-_-9JNAb6UDyq7wa...|  4.0|--C-42rr7hPSsUROJ...|   Not Elite|\n",
      "|fHqAyF58eC6vC4_BP...|AMTNJbYbu0OMMAkx4...|  4.0|--ChzqcPs4YFWlw1j...|   Not Elite|\n",
      "|bQkvjkpLZmtFYaYdO...|KVsv8wRGnLX8QWoNZ...|  3.0|--ChzqcPs4YFWlw1j...|   Not Elite|\n",
      "|YSW-S2XUyCKR3jUtW...|F9CcIFltPDXiOkCCF...|  4.0|--ChzqcPs4YFWlw1j...|   Not Elite|\n",
      "|V4nVpftxljW4sFOgO...|6pG7n8Rx_7ZXeQQk6...|  2.0|--ChzqcPs4YFWlw1j...|   Not Elite|\n",
      "|SI_ONkbwzN_i38Gvg...|4KmrrhtfnngTVFa2d...|  4.0|--ChzqcPs4YFWlw1j...|   Not Elite|\n",
      "|mfqVYzvoeiZREW8bs...|QZV9hW3WP9o9SmmV2...|  5.0|--ET3paBtrThD95dk...|   Not Elite|\n",
      "|99Vpr7r8dGR0txvL3...|pT6baSMzC6rZfwhp_...|  5.0|--GLTFzU93A40YB56...|   Not Elite|\n",
      "|YQN6mfSAX12LFsn6r...|JmI9nslLD7KZqRr__...|  2.0|--I4wRDhmM2J2VLzK...|   Not Elite|\n",
      "|X2sbxAYTM9KYjyP0e...|HW7JPZBImm3tyEpDg...|  5.0|--RquisWmBzcezXZr...|   Not Elite|\n",
      "|ubpg7b5NJUih_A_2d...|W2Vis19kUa7kP6GkS...|  5.0|--RquisWmBzcezXZr...|   Not Elite|\n",
      "|cqrmoHebDTzgc5hjO...|XNFA-aJFX8IQjol8D...|  4.0|--RquisWmBzcezXZr...|   Not Elite|\n",
      "|Bz_KEvFEyKL1QtbFe...|hDD6-yk1yuuRIvfdt...|  2.0|--UizzbnQlZg7bEv2...|   Not Elite|\n",
      "|sZR9FQeM1cO7UKhTD...|eNFubUPJR7yIQah-N...|  4.0|--cd_gA-9Q8gM9P2c...|   Not Elite|\n",
      "|yhgRUG0ctQ0aEaaIi...|uPa5hrWmHm0n1l4MS...|  4.0|--cd_gA-9Q8gM9P2c...|   Not Elite|\n",
      "+--------------------+--------------------+-----+--------------------+------------+\n",
      "only showing top 20 rows"
     ]
    }
   ],
   "source": [
    "non_elite_df = combine_df.filter(col(\"Elite or Not\") == \"Not Elite\")  \n",
    "non_elite_df.show()"
   ]
  },
  {
   "cell_type": "markdown",
   "metadata": {},
   "source": [
    "Non-Elite Average Rating Grouped by Business ID"
   ]
  },
  {
   "cell_type": "code",
   "execution_count": 34,
   "metadata": {
    "scrolled": true
   },
   "outputs": [
    {
     "data": {
      "application/vnd.jupyter.widget-view+json": {
       "model_id": "9b1537d103654d83a68549308a84daae",
       "version_major": 2,
       "version_minor": 0
      },
      "text/plain": [
       "VBox()"
      ]
     },
     "metadata": {},
     "output_type": "display_data"
    },
    {
     "data": {
      "application/vnd.jupyter.widget-view+json": {
       "model_id": "",
       "version_major": 2,
       "version_minor": 0
      },
      "text/plain": [
       "FloatProgress(value=0.0, bar_style='info', description='Progress:', layout=Layout(height='25px', width='50%'),…"
      ]
     },
     "metadata": {},
     "output_type": "display_data"
    },
    {
     "name": "stdout",
     "output_type": "stream",
     "text": [
      "+--------------------+------------------------+\n",
      "|         business_id|Stars rated by non elite|\n",
      "+--------------------+------------------------+\n",
      "|oFsufzhFo0QUlgkXd...|                     3.0|\n",
      "|uC3qwaxsOkdJzpOc0...|      3.2488372093023257|\n",
      "|VmSrPPO2WXmOKjUW7...|       3.201058201058201|\n",
      "|--9e1ONYQuAa-CB_R...|        4.08596214511041|\n",
      "|eKznX8VTfcQrjCqXp...|       4.406976744186046|\n",
      "|RtUvSWO_UZ8V3Wpj0...|       4.121583411875589|\n",
      "|l3V86Z6oAzpnwe1VY...|       3.018181818181818|\n",
      "|35X1ZV9tSEqB__yJE...|      3.0080645161290325|\n",
      "|jfdUtdkXogP2kjK5K...|      3.9655172413793105|\n",
      "|iOhHDavGdswJQlPW5...|      1.9545454545454546|\n",
      "|xusE_x84QOEDaRZ8r...|      3.7142857142857144|\n",
      "|G58YATMKnn-M-RUDW...|       3.492063492063492|\n",
      "|_iHxdOWFP3iSHbAB4...|       4.090909090909091|\n",
      "|3lFUdYf2zfFxrm8LI...|       1.721311475409836|\n",
      "|N3J76CRP2H52NUo4V...|       4.348837209302325|\n",
      "|umwULmdsxx8aTsoRQ...|                    2.25|\n",
      "|VHsNB3pdGVcRgs6C3...|       3.279279279279279|\n",
      "|RMjCnixEY5i12Ciqn...|      3.6226415094339623|\n",
      "|llCxryWr8j1S39tus...|      4.4627831715210355|\n",
      "|ovEkkMjdJJSq0zckb...|      3.9478260869565216|\n",
      "+--------------------+------------------------+\n",
      "only showing top 20 rows"
     ]
    }
   ],
   "source": [
    "non_elite_stars_df = non_elite_df.groupBy(\"business_id\").agg(F.mean('stars').alias('Stars rated by non elite'))\n",
    "non_elite_stars_df.show()"
   ]
  },
  {
   "cell_type": "markdown",
   "metadata": {},
   "source": [
    "Prepare data for plotting"
   ]
  },
  {
   "cell_type": "code",
   "execution_count": 35,
   "metadata": {},
   "outputs": [
    {
     "data": {
      "application/vnd.jupyter.widget-view+json": {
       "model_id": "222807c1378e4f1a8f233fecb8364b8a",
       "version_major": 2,
       "version_minor": 0
      },
      "text/plain": [
       "VBox()"
      ]
     },
     "metadata": {},
     "output_type": "display_data"
    },
    {
     "data": {
      "application/vnd.jupyter.widget-view+json": {
       "model_id": "",
       "version_major": 2,
       "version_minor": 0
      },
      "text/plain": [
       "FloatProgress(value=0.0, bar_style='info', description='Progress:', layout=Layout(height='25px', width='50%'),…"
      ]
     },
     "metadata": {},
     "output_type": "display_data"
    }
   ],
   "source": [
    "combined_data = combine_stars_df.toPandas()[\"Stars\"].values.tolist()\n",
    "elite_data = elite_stars_df.toPandas()[\"Stars rated by elite\"].values.tolist()\n",
    "non_elite_data = non_elite_stars_df.toPandas()[\"Stars rated by non elite\"].values.tolist()\n",
    "data = [combined_data, elite_data, non_elite_data]"
   ]
  },
  {
   "cell_type": "markdown",
   "metadata": {},
   "source": [
    "And finally, graph it!"
   ]
  },
  {
   "cell_type": "code",
   "execution_count": 36,
   "metadata": {},
   "outputs": [
    {
     "data": {
      "application/vnd.jupyter.widget-view+json": {
       "model_id": "6f9ad1cc0ca046adb5f41d56384c4b77",
       "version_major": 2,
       "version_minor": 0
      },
      "text/plain": [
       "VBox()"
      ]
     },
     "metadata": {},
     "output_type": "display_data"
    },
    {
     "data": {
      "application/vnd.jupyter.widget-view+json": {
       "model_id": "",
       "version_major": 2,
       "version_minor": 0
      },
      "text/plain": [
       "FloatProgress(value=0.0, bar_style='info', description='Progress:', layout=Layout(height='25px', width='50%'),…"
      ]
     },
     "metadata": {},
     "output_type": "display_data"
    },
    {
     "data": {
      "image/png": "[encoded data removed]",
      "text/plain": [
       "<IPython.core.display.Image object>"
      ]
     },
     "metadata": {},
     "output_type": "display_data"
    }
   ],
   "source": [
    "fig = plt.figure(figsize =(8, 4)) \n",
    "plt.boxplot(data)\n",
    "plt.xticks([1, 2, 3], ['Combined Rating', 'Elite Rating', 'Non-Elite Rating'])\n",
    "plt.title(\"Comparison of Combined Rating, Elite Rating and Non-Elite Rating\")\n",
    "y_ticks = np.arange(0, 6, 1)\n",
    "plt.yticks(y_ticks)\n",
    "%matplot plt"
   ]
  },
  {
   "cell_type": "markdown",
   "metadata": {},
   "source": [
    "Clears the entire current figure with all its axes"
   ]
  },
  {
   "cell_type": "code",
   "execution_count": 37,
   "metadata": {},
   "outputs": [
    {
     "data": {
      "application/vnd.jupyter.widget-view+json": {
       "model_id": "ff583c45154d4a01b86490233b767d57",
       "version_major": 2,
       "version_minor": 0
      },
      "text/plain": [
       "VBox()"
      ]
     },
     "metadata": {},
     "output_type": "display_data"
    },
    {
     "data": {
      "application/vnd.jupyter.widget-view+json": {
       "model_id": "",
       "version_major": 2,
       "version_minor": 0
      },
      "text/plain": [
       "FloatProgress(value=0.0, bar_style='info', description='Progress:', layout=Layout(height='25px', width='50%'),…"
      ]
     },
     "metadata": {},
     "output_type": "display_data"
    }
   ],
   "source": [
    "plt.clf()\n",
    "plt.cla()\n",
    "plt.close()"
   ]
  },
  {
   "cell_type": "markdown",
   "metadata": {},
   "source": [
    "As we can see from the above boxplot, elite data has more outliers. Additionally, the first, third quantiles and the median of the elite ratings are also higher than the non-elites' ratings. From my point of view, I would say elite should not be trusted."
   ]
  },
  {
   "cell_type": "markdown",
   "metadata": {},
   "source": [
    "## Part V. Which city has the most 5 star rated restaurants and which restaurants do you recommend?"
   ]
  },
  {
   "cell_type": "markdown",
   "metadata": {},
   "source": [
    "#### 1. Filter business data to collect 5 star rated restaurants"
   ]
  },
  {
   "cell_type": "code",
   "execution_count": 45,
   "metadata": {},
   "outputs": [
    {
     "data": {
      "application/vnd.jupyter.widget-view+json": {
       "model_id": "28dd6fd2709946ecaddbfdcad056e614",
       "version_major": 2,
       "version_minor": 0
      },
      "text/plain": [
       "VBox()"
      ]
     },
     "metadata": {},
     "output_type": "display_data"
    },
    {
     "data": {
      "application/vnd.jupyter.widget-view+json": {
       "model_id": "",
       "version_major": 2,
       "version_minor": 0
      },
      "text/plain": [
       "FloatProgress(value=0.0, bar_style='info', description='Progress:', layout=Layout(height='25px', width='50%'),…"
      ]
     },
     "metadata": {},
     "output_type": "display_data"
    }
   ],
   "source": [
    "five_strs_resta_df = business_df.select('business_id', 'name', 'city', 'stars', 'review_count', 'address', 'categories') \\\n",
    "                                        .where(col('categories').like(\"%Restaurants%\")) \\\n",
    "                                        .filter(col(\"stars\") == 5)"
   ]
  },
  {
   "cell_type": "markdown",
   "metadata": {},
   "source": [
    "#### 2. Check which city has the largest number of 5 star rated restaurants"
   ]
  },
  {
   "cell_type": "code",
   "execution_count": 47,
   "metadata": {
    "scrolled": true
   },
   "outputs": [
    {
     "data": {
      "application/vnd.jupyter.widget-view+json": {
       "model_id": "b875cc0cf4074f9aa53a8938a5ad2a56",
       "version_major": 2,
       "version_minor": 0
      },
      "text/plain": [
       "VBox()"
      ]
     },
     "metadata": {},
     "output_type": "display_data"
    },
    {
     "data": {
      "application/vnd.jupyter.widget-view+json": {
       "model_id": "",
       "version_major": 2,
       "version_minor": 0
      },
      "text/plain": [
       "FloatProgress(value=0.0, bar_style='info', description='Progress:', layout=Layout(height='25px', width='50%'),…"
      ]
     },
     "metadata": {},
     "output_type": "display_data"
    },
    {
     "name": "stdout",
     "output_type": "stream",
     "text": [
      "+-----------+-----+\n",
      "|       city|count|\n",
      "+-----------+-----+\n",
      "|  Las Vegas|  225|\n",
      "|   Montréal|  171|\n",
      "|    Toronto|  165|\n",
      "|    Phoenix|  132|\n",
      "| Pittsburgh|   82|\n",
      "|    Calgary|   79|\n",
      "|  Cleveland|   61|\n",
      "|  Charlotte|   55|\n",
      "| Scottsdale|   43|\n",
      "|       Mesa|   36|\n",
      "|    Madison|   34|\n",
      "|Mississauga|   27|\n",
      "|  Henderson|   22|\n",
      "|      Tempe|   19|\n",
      "|    Gilbert|   18|\n",
      "|   Chandler|   18|\n",
      "|   Glendale|   16|\n",
      "|      Laval|   15|\n",
      "|   Brampton|   13|\n",
      "|   Matthews|    9|\n",
      "+-----------+-----+\n",
      "only showing top 20 rows"
     ]
    }
   ],
   "source": [
    "city_count = five_strs_resta_df.select('city').groupby(five_strs_resta_df.city).count().sort('count', ascending=False)\n",
    "city_count.show()"
   ]
  },
  {
   "cell_type": "markdown",
   "metadata": {},
   "source": [
    "#### 3. Plot the top 10 cities that have the largest number of 5 star rated restaurants"
   ]
  },
  {
   "cell_type": "code",
   "execution_count": 57,
   "metadata": {},
   "outputs": [
    {
     "data": {
      "application/vnd.jupyter.widget-view+json": {
       "model_id": "dbb1c6d9d4f74b0db394b02044d4996a",
       "version_major": 2,
       "version_minor": 0
      },
      "text/plain": [
       "VBox()"
      ]
     },
     "metadata": {},
     "output_type": "display_data"
    },
    {
     "data": {
      "application/vnd.jupyter.widget-view+json": {
       "model_id": "",
       "version_major": 2,
       "version_minor": 0
      },
      "text/plain": [
       "FloatProgress(value=0.0, bar_style='info', description='Progress:', layout=Layout(height='25px', width='50%'),…"
      ]
     },
     "metadata": {},
     "output_type": "display_data"
    },
    {
     "data": {
      "image/png": "[encoded data removed]",
      "text/plain": [
       "<IPython.core.display.Image object>"
      ]
     },
     "metadata": {},
     "output_type": "display_data"
    }
   ],
   "source": [
    "top_10 = city_count.sort(desc('count')).limit(10).toPandas()\n",
    "\n",
    "ax = top_10.plot(kind='barh', x='city', y='count', \n",
    "            figsize=(8, 4), zorder=2, width=0.85, \\\n",
    "                 color=['coral','silver','silver','silver','silver','silver','silver','silver','silver','silver'])\n",
    "\n",
    "ax.invert_yaxis()\n",
    "ax.set_xlabel(\"Count\")\n",
    "ax.set_ylabel(\"City\")\n",
    "ax.set_title(\"Top 10 Cities in the number of five star rated restaurants\")\n",
    "ax.annotate('Las Vegas has the largest number of 5 star rated restaurants',\n",
    "            xy=(220, 0.5), xycoords='data',\n",
    "            xytext=(30, -90), textcoords='offset points',\n",
    "            arrowprops=dict(facecolor='black'),\n",
    "            horizontalalignment='right', verticalalignment='bottom')\n",
    "ax.get_legend().remove() \n",
    "\n",
    "plt.tight_layout()\n",
    "%matplot plt"
   ]
  },
  {
   "cell_type": "markdown",
   "metadata": {},
   "source": [
    "Clears the entire current figure with all its axes"
   ]
  },
  {
   "cell_type": "code",
   "execution_count": 58,
   "metadata": {},
   "outputs": [
    {
     "data": {
      "application/vnd.jupyter.widget-view+json": {
       "model_id": "cfd2fbdc1610424bbf359a1e8056076a",
       "version_major": 2,
       "version_minor": 0
      },
      "text/plain": [
       "VBox()"
      ]
     },
     "metadata": {},
     "output_type": "display_data"
    },
    {
     "data": {
      "application/vnd.jupyter.widget-view+json": {
       "model_id": "",
       "version_major": 2,
       "version_minor": 0
      },
      "text/plain": [
       "FloatProgress(value=0.0, bar_style='info', description='Progress:', layout=Layout(height='25px', width='50%'),…"
      ]
     },
     "metadata": {},
     "output_type": "display_data"
    }
   ],
   "source": [
    "plt.clf()\n",
    "plt.cla()\n",
    "plt.close()"
   ]
  },
  {
   "cell_type": "markdown",
   "metadata": {},
   "source": [
    "#### 4. Deep dive into Las Vegas and check which restaurants has the most reviews"
   ]
  },
  {
   "cell_type": "code",
   "execution_count": 50,
   "metadata": {},
   "outputs": [
    {
     "data": {
      "application/vnd.jupyter.widget-view+json": {
       "model_id": "e22d79786e6b4bccaa47fabed51e9631",
       "version_major": 2,
       "version_minor": 0
      },
      "text/plain": [
       "VBox()"
      ]
     },
     "metadata": {},
     "output_type": "display_data"
    },
    {
     "data": {
      "application/vnd.jupyter.widget-view+json": {
       "model_id": "",
       "version_major": 2,
       "version_minor": 0
      },
      "text/plain": [
       "FloatProgress(value=0.0, bar_style='info', description='Progress:', layout=Layout(height='25px', width='50%'),…"
      ]
     },
     "metadata": {},
     "output_type": "display_data"
    },
    {
     "name": "stdout",
     "output_type": "stream",
     "text": [
      "+--------------------+--------------------+------------+\n",
      "|                name|          categories|review_count|\n",
      "+--------------------+--------------------+------------+\n",
      "|        Brew Tea Bar|Restaurants, Food...|        1827|\n",
      "|      Zenaida's Cafe|Cafes, Breakfast ...|         717|\n",
      "|Bajamar Seafood &...|Fast Food, Dive B...|         658|\n",
      "|              Karved|Restaurants, Sand...|         651|\n",
      "|       J Karaoke Bar|Nightlife, Bars, ...|         534|\n",
      "| La Maison de Maggie|Cafes, Creperies,...|         397|\n",
      "|      Pizzeria Monzú|Italian, Pizza, B...|         381|\n",
      "|Chuchote Thai Bis...|Comfort Food, Res...|         370|\n",
      "|      Art of Flavors|American (New), I...|         345|\n",
      "|Water Grill - Las...|Restaurants, Seafood|         294|\n",
      "+--------------------+--------------------+------------+"
     ]
    }
   ],
   "source": [
    "Las_Vegas_five_strs_resta = five_strs_resta_df.filter(col(\"city\") == \"Las Vegas\")  \n",
    "Las_Vegas_top_10_most_reviews_resta = Las_Vegas_five_strs_resta.select('name', 'categories', 'review_count') \\\n",
    "                                                                .sort(\"\"\"review_count\"\"\",ascending=False).limit(10)\n",
    "Las_Vegas_top_10_most_reviews_resta.show()"
   ]
  },
  {
   "cell_type": "markdown",
   "metadata": {},
   "source": [
    "#### 5. Plot the top 10 five-star rated restaurants at Las Vegas in the number of reviews"
   ]
  },
  {
   "cell_type": "code",
   "execution_count": 76,
   "metadata": {},
   "outputs": [
    {
     "data": {
      "application/vnd.jupyter.widget-view+json": {
       "model_id": "de1f8720968c408a811d7942c6e1e13d",
       "version_major": 2,
       "version_minor": 0
      },
      "text/plain": [
       "VBox()"
      ]
     },
     "metadata": {},
     "output_type": "display_data"
    },
    {
     "data": {
      "application/vnd.jupyter.widget-view+json": {
       "model_id": "",
       "version_major": 2,
       "version_minor": 0
      },
      "text/plain": [
       "FloatProgress(value=0.0, bar_style='info', description='Progress:', layout=Layout(height='25px', width='50%'),…"
      ]
     },
     "metadata": {},
     "output_type": "display_data"
    },
    {
     "data": {
      "image/png": "[encoded data removed]",
      "text/plain": [
       "<IPython.core.display.Image object>"
      ]
     },
     "metadata": {},
     "output_type": "display_data"
    }
   ],
   "source": [
    "fig = plt.figure(figsize =(8, 4))\n",
    "restaurants_name = Las_Vegas_top_10_most_reviews_resta.toPandas()[\"name\"].values.tolist()\n",
    "review_count = Las_Vegas_top_10_most_reviews_resta.sort('review_count').toPandas()[\"review_count\"].values.tolist()\n",
    "plt.barh(restaurants_name, review_count)\n",
    "plt.xlabel(\"Review Count\")\n",
    "plt.ylabel(\"Restaurants\")\n",
    "plt.title(\"Top 10 most reviews in five-star rated restaurants at Las Vegas\")\n",
    "plt.tight_layout()\n",
    "plt.show()\n",
    "\n",
    "%matplot plt"
   ]
  },
  {
   "cell_type": "markdown",
   "metadata": {},
   "source": [
    "#### 6. A glance of what type of restaurants are those top 10"
   ]
  },
  {
   "cell_type": "code",
   "execution_count": 77,
   "metadata": {},
   "outputs": [
    {
     "data": {
      "application/vnd.jupyter.widget-view+json": {
       "model_id": "f95082c05bac48f7aebe901e889cd243",
       "version_major": 2,
       "version_minor": 0
      },
      "text/plain": [
       "VBox()"
      ]
     },
     "metadata": {},
     "output_type": "display_data"
    },
    {
     "data": {
      "application/vnd.jupyter.widget-view+json": {
       "model_id": "",
       "version_major": 2,
       "version_minor": 0
      },
      "text/plain": [
       "FloatProgress(value=0.0, bar_style='info', description='Progress:', layout=Layout(height='25px', width='50%'),…"
      ]
     },
     "metadata": {},
     "output_type": "display_data"
    },
    {
     "name": "stdout",
     "output_type": "stream",
     "text": [
      "+-------------------------------+-------------------------------------------------------------------------------------------+\n",
      "|name                           |categories                                                                                 |\n",
      "+-------------------------------+-------------------------------------------------------------------------------------------+\n",
      "|Brew Tea Bar                   |Restaurants, Food, Cafes, Tea Rooms, Bubble Tea, Desserts                                  |\n",
      "|Zenaida's Cafe                 |Cafes, Breakfast & Brunch, Restaurants                                                     |\n",
      "|Bajamar Seafood & Tacos        |Fast Food, Dive Bars, Bars, Tacos, Seafood, Nightlife, Mexican, Restaurants                |\n",
      "|Karved                         |Restaurants, Sandwiches, Fast Food, Salad, American (New), American (Traditional), Barbeque|\n",
      "|J Karaoke Bar                  |Nightlife, Bars, Restaurants, Asian Fusion, Cocktail Bars, Karaoke, American (New), Korean |\n",
      "|La Maison de Maggie            |Cafes, Creperies, Restaurants, French, Gluten-Free                                         |\n",
      "|Pizzeria Monzú                 |Italian, Pizza, Breakfast & Brunch, Restaurants                                            |\n",
      "|Chuchote Thai Bistro & Desserts|Comfort Food, Restaurants, Thai, Beer, Wine & Spirits, Desserts, Food                      |\n",
      "|Art of Flavors                 |American (New), Ice Cream & Frozen Yogurt, Restaurants, Gelato, Desserts, Food             |\n",
      "|Water Grill - Las Vegas        |Restaurants, Seafood                                                                       |\n",
      "+-------------------------------+-------------------------------------------------------------------------------------------+"
     ]
    }
   ],
   "source": [
    "Las_Vegas_top_10_most_reviews_resta.select('name','categories').show(truncate = False)"
   ]
  }
 ],
 "metadata": {
  "kernelspec": {
   "display_name": "PySpark",
   "language": "",
   "name": "pysparkkernel"
  },
  "language_info": {
   "codemirror_mode": {
    "name": "python",
    "version": 2
   },
   "mimetype": "text/x-python",
   "name": "pyspark",
   "pygments_lexer": "python2"
  }
 },
 "nbformat": 4,
 "nbformat_minor": 4
}
